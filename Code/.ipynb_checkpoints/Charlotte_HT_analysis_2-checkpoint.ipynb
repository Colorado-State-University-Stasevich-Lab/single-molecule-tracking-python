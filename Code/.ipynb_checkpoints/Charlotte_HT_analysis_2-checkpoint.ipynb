{
 "cells": [
  {
   "cell_type": "markdown",
   "metadata": {},
   "source": [
    "### Initiation"
   ]
  },
  {
   "cell_type": "code",
   "execution_count": 30,
   "metadata": {
    "jupyter": {
     "source_hidden": true
    },
    "scrolled": true
   },
   "outputs": [],
   "source": [
    "# To manipulate arrays\n",
    "import numpy as np \n",
    "# To import images \n",
    "\n",
    "# To handle track DataFrames\n",
    "import pandas as pd\n",
    "\n",
    "# To import images\n",
    "from skimage import io \n",
    "from skimage.io import imread\n",
    "\n",
    "# For TrackPy\n",
    "import trackpy as tp\n",
    "\n",
    "# To make plots\n",
    "import matplotlib as mpl \n",
    "import matplotlib.pyplot as plt \n",
    "import seaborn as sns; sns.set()  \n",
    "\n",
    "# To work inline; change to %matplotlib notebook for interactive plotting\n",
    "%matplotlib inline \n",
    "\n",
    "# Napari \n",
    "%gui qt5 \n",
    "from skimage import data\n",
    "import napari\n",
    "\n",
    "# To create interactive elements\n",
    "import ipywidgets as widgets \n",
    "from ipywidgets import interact, interactive, fixed, interact_manual, Button, HBox, VBox, Layout, GridspecLayout\n",
    "from ipywidgets.embed import embed_minimal_html, dependency_state\n",
    "\n",
    "# Image processing and filters\n",
    "from skimage.filters import difference_of_gaussians\n",
    "\n",
    "# Iteration tools such as groupby \n",
    "import itertools\n",
    "\n",
    "# For directories \n",
    "import os\n",
    "\n",
    "# For reloading a library when testing\n",
    "import importlib\n",
    "\n",
    "# For deleting/reloading modules in another file for code testing\n",
    "import sys\n",
    "\n",
    "# For statistics\n",
    "from scipy import stats\n",
    "\n",
    "# Import trackArrayTools\n",
    "from trackArrayTools import *\n",
    "\n",
    "#rSNAPsim_IP\n",
    "cwd = os.getcwd()  # get current working director\n",
    "os.chdir(cwd +'/rSNAPsim_IP/rSNAPsim_IP/') # assume rSNAPsim_IP is  one directory up\n",
    "import rSNAPsim_IP as rss_IP #importing rSNAPsim.\n",
    "os.chdir(cwd) # change back to original current directory (the directory this file is in)"
   ]
  },
  {
   "cell_type": "code",
   "execution_count": null,
   "metadata": {},
   "outputs": [],
   "source": []
  },
  {
   "cell_type": "markdown",
   "metadata": {},
   "source": [
    "### Set current working directory, track array filenames, and basic parameters"
   ]
  },
  {
   "cell_type": "code",
   "execution_count": 42,
   "metadata": {},
   "outputs": [],
   "source": [
    "# Enter in the following:\n",
    "crop_pad = 5    # specifies the size of crops in track arary. If 5, then crops are (2*5 + 1 = 11) x 11\n",
    "xy_pixel_size = 130   # voxel  xy dimensions in crops\n",
    "z_pixel_size = 500   # voxel z dimension\n",
    "working_directory = '/Volumes/BITTY/ht/Analysis/'\n",
    "video_3D_filename_path = '/Volumes/BITTY/ht/'\n",
    "beads_path = '/Volumes/TSlab/_FiXie/Nick/20180916/Beads/'\n",
    "video_3D_filename = 'NT05har.tif'"
   ]
  },
  {
   "cell_type": "code",
   "execution_count": 43,
   "metadata": {
    "scrolled": true
   },
   "outputs": [
    {
     "data": {
      "text/plain": [
       "['Tracks_NT05har_crop_pad_5.tif', 'Tracks_NT05har.csv']"
      ]
     },
     "execution_count": 43,
     "metadata": {},
     "output_type": "execute_result"
    }
   ],
   "source": [
    "# For display, so z and xy are shown properly when viewing track array\n",
    "z_renorm = z_pixel_size/xy_pixel_size  \n",
    "\n",
    "#  Track array filenames should be the following:\n",
    "track_array_filename = 'Tracks_' + video_3D_filename[:-4] + '_crop_pad_' + str(crop_pad) + '.tif' \n",
    "track_filename = track_array_filename[:-15] + '.csv'\n",
    "[track_array_filename, track_filename]"
   ]
  },
  {
   "cell_type": "markdown",
   "metadata": {},
   "source": [
    "### Creating Track Array (only done once using original 3D video and tracks)"
   ]
  },
  {
   "cell_type": "code",
   "execution_count": 33,
   "metadata": {},
   "outputs": [],
   "source": [
    "# Loading the figure with beads so track array can be registered\n",
    "# Dimension 1 is the number of channel. Red and Green. # Dimension 2 is the x axis. # Dimension 3 is the y axis.\n",
    "figWithBeads = beads_path + 'Beads01.tif'\n",
    "im_beads = io.imread(figWithBeads) # reading the image"
   ]
  },
  {
   "cell_type": "code",
   "execution_count": 34,
   "metadata": {},
   "outputs": [
    {
     "name": "stdout",
     "output_type": "stream",
     "text": [
      "The number of spots detected for the red channel are:\n",
      "(14, 2)\n",
      "The number of spots detected for the green channel are:\n",
      "(14, 2)\n",
      "\n",
      "The homography matrix is:\n"
     ]
    }
   ],
   "source": [
    "# Using rSNAPSim to get the homography matrix to align the green/blue channels with red\n",
    "temp_obj_beads = rss_IP.BeadsAlignment(im_beads)\n",
    "[my_homography,positions_green,positions_red] = temp_obj_beads.make_beads_alignment()  # !!! Adjusted Luis' code to spit this info out"
   ]
  },
  {
   "cell_type": "code",
   "execution_count": 35,
   "metadata": {
    "scrolled": true
   },
   "outputs": [
    {
     "name": "stdout",
     "output_type": "stream",
     "text": [
      "[original distance, corrected distance (shift red to green), corrected distance (shift green to red)]\n",
      "[1.1484509, 0.4941265976308754, 0.4916947463170285]\n",
      "[1.1633973, 0.37452797999100884, 0.3732600621086218]\n",
      "[1.620913, 0.14624437383180436, 0.145013966794163]\n",
      "[1.2009374, 0.7734428680496053, 0.7712197297837619]\n",
      "[1.2830766, 0.2944414302166067, 0.29411087164246624]\n",
      "[1.9190075, 0.1864776638484922, 0.1863608962284355]\n",
      "[2.1536944, 0.5117793594948357, 0.5100683058622194]\n",
      "[2.0022724, 0.05257508491624335, 0.052472590684468905]\n",
      "[1.9953806, 0.15934917632290058, 0.1591939461607147]\n",
      "[2.2636275, 0.16752364133148454, 0.1672308661067973]\n",
      "[2.7105021, 0.327417833420137, 0.3268782922474685]\n",
      "[2.3485498, 0.4487064557021406, 0.44753875019281003]\n",
      "[2.7733324, 0.5670743440537247, 0.5652181632316454]\n",
      "[2.502987, 0.5204397525932324, 0.5189501649759249]\n"
     ]
    }
   ],
   "source": [
    "# Check that the homography matrix is working:\n",
    "my_homography_inverse = np.linalg.inv(my_homography)  # This is the transformation we use to shift green to red\n",
    "print('[original distance, corrected distance (shift red to green), corrected distance (shift green to red)]' )\n",
    "for i in np.arange(len(positions_green)):\n",
    "    g0=positions_green[i]\n",
    "    g=np.dot(my_homography_inverse,[positions_green[i,0],positions_green[i,1],1])[0:2]  # Correct green/blue\n",
    "    r0=positions_red[i]\n",
    "    r=np.dot(my_homography,[positions_red[i,0],positions_red[i,1],1])[0:2]  # What you'll do: shift red to green\n",
    "    print([np.linalg.norm(g0-r0),np.linalg.norm(g0-r),np.linalg.norm(g-r0)]) # Check corrections"
   ]
  },
  {
   "cell_type": "code",
   "execution_count": 44,
   "metadata": {},
   "outputs": [],
   "source": [
    "# Read in the original 3D video \n",
    "video_3D = imread(video_3D_filename_path+video_3D_filename)"
   ]
  },
  {
   "cell_type": "code",
   "execution_count": 45,
   "metadata": {},
   "outputs": [
    {
     "name": "stdout",
     "output_type": "stream",
     "text": [
      "(65, 12, 512, 512, 3)\n"
     ]
    }
   ],
   "source": [
    "print(video_3D.shape)"
   ]
  },
  {
   "cell_type": "code",
   "execution_count": 46,
   "metadata": {
    "scrolled": true
   },
   "outputs": [
    {
     "data": {
      "text/html": [
       "<div>\n",
       "<style scoped>\n",
       "    .dataframe tbody tr th:only-of-type {\n",
       "        vertical-align: middle;\n",
       "    }\n",
       "\n",
       "    .dataframe tbody tr th {\n",
       "        vertical-align: top;\n",
       "    }\n",
       "\n",
       "    .dataframe thead th {\n",
       "        text-align: right;\n",
       "    }\n",
       "</style>\n",
       "<table border=\"1\" class=\"dataframe\">\n",
       "  <thead>\n",
       "    <tr style=\"text-align: right;\">\n",
       "      <th></th>\n",
       "      <th>TRACK_ID</th>\n",
       "      <th>POSITION_T</th>\n",
       "      <th>POSITION_Z</th>\n",
       "      <th>POSITION_Y</th>\n",
       "      <th>POSITION_X</th>\n",
       "      <th>FRAMES</th>\n",
       "      <th>Y_mathematica</th>\n",
       "      <th>X_mathematica</th>\n",
       "      <th>REAL_T</th>\n",
       "    </tr>\n",
       "  </thead>\n",
       "  <tbody>\n",
       "    <tr>\n",
       "      <th>0</th>\n",
       "      <td>0</td>\n",
       "      <td>0</td>\n",
       "      <td>0</td>\n",
       "      <td>77.322863</td>\n",
       "      <td>220.330964</td>\n",
       "      <td>0</td>\n",
       "      <td>434.677137</td>\n",
       "      <td>220.330964</td>\n",
       "      <td>-4</td>\n",
       "    </tr>\n",
       "    <tr>\n",
       "      <th>1</th>\n",
       "      <td>1</td>\n",
       "      <td>0</td>\n",
       "      <td>0</td>\n",
       "      <td>102.024371</td>\n",
       "      <td>272.834124</td>\n",
       "      <td>0</td>\n",
       "      <td>409.975629</td>\n",
       "      <td>272.834124</td>\n",
       "      <td>-4</td>\n",
       "    </tr>\n",
       "    <tr>\n",
       "      <th>2</th>\n",
       "      <td>2</td>\n",
       "      <td>0</td>\n",
       "      <td>0</td>\n",
       "      <td>120.425136</td>\n",
       "      <td>277.692676</td>\n",
       "      <td>0</td>\n",
       "      <td>391.574864</td>\n",
       "      <td>277.692676</td>\n",
       "      <td>-4</td>\n",
       "    </tr>\n",
       "    <tr>\n",
       "      <th>3</th>\n",
       "      <td>3</td>\n",
       "      <td>0</td>\n",
       "      <td>0</td>\n",
       "      <td>135.394744</td>\n",
       "      <td>179.495393</td>\n",
       "      <td>0</td>\n",
       "      <td>376.605256</td>\n",
       "      <td>179.495393</td>\n",
       "      <td>-4</td>\n",
       "    </tr>\n",
       "    <tr>\n",
       "      <th>4</th>\n",
       "      <td>4</td>\n",
       "      <td>0</td>\n",
       "      <td>0</td>\n",
       "      <td>151.712951</td>\n",
       "      <td>351.894261</td>\n",
       "      <td>0</td>\n",
       "      <td>360.287049</td>\n",
       "      <td>351.894261</td>\n",
       "      <td>-4</td>\n",
       "    </tr>\n",
       "  </tbody>\n",
       "</table>\n",
       "</div>"
      ],
      "text/plain": [
       "   TRACK_ID  POSITION_T  POSITION_Z  POSITION_Y  POSITION_X  FRAMES  \\\n",
       "0         0           0           0   77.322863  220.330964       0   \n",
       "1         1           0           0  102.024371  272.834124       0   \n",
       "2         2           0           0  120.425136  277.692676       0   \n",
       "3         3           0           0  135.394744  179.495393       0   \n",
       "4         4           0           0  151.712951  351.894261       0   \n",
       "\n",
       "   Y_mathematica  X_mathematica  REAL_T  \n",
       "0     434.677137     220.330964      -4  \n",
       "1     409.975629     272.834124      -4  \n",
       "2     391.574864     277.692676      -4  \n",
       "3     376.605256     179.495393      -4  \n",
       "4     360.287049     351.894261      -4  "
      ]
     },
     "execution_count": 46,
     "metadata": {},
     "output_type": "execute_result"
    }
   ],
   "source": [
    "# Read in the tracking file that corresponds to the original 3D video\n",
    "tracks = pd.read_csv(video_3D_filename_path+track_filename) \n",
    "tracks.head()"
   ]
  },
  {
   "cell_type": "code",
   "execution_count": 29,
   "metadata": {},
   "outputs": [
    {
     "data": {
      "text/plain": [
       "<Tracks layer 'TRACK_IDs' at 0x7f89e4462610>"
      ]
     },
     "execution_count": 29,
     "metadata": {},
     "output_type": "execute_result"
    }
   ],
   "source": [
    "viewer = napari.Viewer()\n",
    "viewer.add_image(video_3D[0,:,:,:,0],name='red',blending=\"additive\", scale=[z_renorm,1,1])\n",
    "viewer.add_tracks(tracks[['TRACK_ID','POSITION_T','POSITION_Z','POSITION_Y','POSITION_X']].values, name=\"TRACK_IDs\")"
   ]
  },
  {
   "cell_type": "code",
   "execution_count": 47,
   "metadata": {},
   "outputs": [
    {
     "name": "stdout",
     "output_type": "stream",
     "text": [
      "/Volumes/BITTY/ht/Analysis/\n"
     ]
    }
   ],
   "source": [
    "print( working_directory  )"
   ]
  },
  {
   "cell_type": "code",
   "execution_count": null,
   "metadata": {},
   "outputs": [],
   "source": [
    "create_track_array_video(working_directory, track_array_filename, video_3D, \n",
    "                             tracks, crop_pad, xy_pixel_size, z_pixel_size, homography = my_homography)\n",
    "# create_track_array_video(working_directory, track_array_filename, video_3D[0::10], tracks, crop_pad, xy_pixel_size, z_pixel_size)"
   ]
  },
  {
   "cell_type": "markdown",
   "metadata": {},
   "source": [
    "### Track Array analysis: 3D background subtract + best-z projection + 2D background subtract"
   ]
  },
  {
   "cell_type": "code",
   "execution_count": 21,
   "metadata": {},
   "outputs": [],
   "source": [
    "# Choose which track array you want to work with:\n",
    "#working_directory ='C:/Users/tim_s/OneDrive - Colostate/Stasevich Lab/Our papers/Ago2Tethering/TimFastTrackAnalysis/'\n",
    "#track_array_filename = 'Tracks_TL21_crop_pad_5.tif'\n",
    "\n",
    "# The corresponding tracking file should be in the same directory and have the following filename: \n",
    "track_filename = track_array_filename[:-15] + '.csv'\n",
    "\n",
    "# Read in the track array video \n",
    "track_array_vid = imread(working_directory + track_array_filename)  # Read in track array .tif file\n",
    "\n",
    "# Read in tracks as a \"dataframes (df)\"\n",
    "track_array_df = pd.read_csv(working_directory + track_filename)\n",
    "\n",
    "# Make sure color channels are the last dimension of the track array\n",
    "dims = list(track_array_vid.shape)\n",
    "if len(dims) != 3:     # check if just a single channel video\n",
    "    n_channels = min(dims)\n",
    "    n_channels_index = dims.index(n_channels)\n",
    "    track_array_vid = np.moveaxis(track_array_vid,n_channels_index,-1)"
   ]
  },
  {
   "cell_type": "code",
   "execution_count": 22,
   "metadata": {},
   "outputs": [],
   "source": [
    "# Step 0: Create the track array object:\n",
    "#del sys.modules['trackArrayTools']  # Use this if you are coding new class methods and want to reread trackArrayTools.py file\n",
    "#from trackArrayTools import *\n",
    "ta = TrackArray(track_array_vid, track_array_df, crop_pad)"
   ]
  },
  {
   "cell_type": "code",
   "execution_count": 23,
   "metadata": {},
   "outputs": [],
   "source": [
    "# Step 1: subtract background in 3D capsule mask\n",
    "my_offset = [0,-1,-1]  ### BE CAREFUL, THIS WILL MAKE A MASK THAT IS SHIFTED IN Z FOR BLUE AND GREEN!!!\n",
    "capsule_mask = ta.capsule_mask(crop_pad,crop_pad,2,1,0,z_offset=my_offset)\n",
    "arr_bg = ta.local_background_subtract(ta.arr,capsule_mask)\n",
    "\n",
    "# Check with napari\n",
    "max = np.max(arr_bg,axis=(0,1,2)) # find max intensities for setting intensity range\n",
    "my_range = [[0,max[0]],[0,max[1]],[0,max[2]]]\n",
    "napari_viewer(arr_bg,[z_renorm,1,1],int_range=my_range,layer=[capsule_mask[:,:,:,0],capsule_mask[:,:,:,2]])"
   ]
  },
  {
   "cell_type": "code",
   "execution_count": 41,
   "metadata": {},
   "outputs": [],
   "source": [
    "# Step 2: Now do best-z projection\n",
    "my_best_z_masks = ta.best_z_mask(1,0,z_offset = my_offset) # this part is same as above\n",
    "arr_bg_best_z = ta.mask_projection(arr_bg, my_best_z_masks) # best-z projection\n",
    "\n",
    "# Check with napari\n",
    "max = np.max(arr_bg_best_z,axis=(0,1)) # find max intensities for setting intensity range\n",
    "my_range = [[0,max[0]],[0,max[1]],[0,max[2]]]\n",
    "#napari_viewer(arr_bg_best_z,[1,1],int_range=my_range)"
   ]
  },
  {
   "cell_type": "code",
   "execution_count": 42,
   "metadata": {},
   "outputs": [],
   "source": [
    "# Step 3: Subtract background in donut rings from max projection  \n",
    "arr_bg_best_z_bg = ta.local_background_subtract(arr_bg_best_z,ta.donut_mask_2D(5,1))\n",
    "\n",
    "# Check with napari and show donut mask\n",
    "max = np.max(arr_bg_best_z_bg,axis=(0,1)) # find max intensities for setting intensity range\n",
    "my_range = [[0,max[0]],[0,max[1]],[0,max[2]]]\n",
    "napari_viewer(arr_bg_best_z_bg,[1,1],int_range=my_range,layer=[ta.donut_mask_2D(5,1)])"
   ]
  },
  {
   "cell_type": "code",
   "execution_count": 43,
   "metadata": {},
   "outputs": [
    {
     "data": {
      "text/plain": [
       "'E:/Tim_tracking videos_all zs/Tracks_TL21_crop_pad_5_bg-sub_bestz_bg-sub.tif'"
      ]
     },
     "execution_count": 43,
     "metadata": {},
     "output_type": "execute_result"
    }
   ],
   "source": [
    "# Output background-subtracted and max-z projected track array \n",
    "output_filename_path = working_directory + track_array_filename[0:-4] + '_bg-sub_bestz_bg-sub.tif'\n",
    "io.imsave(output_filename_path,\n",
    "        arr_bg_best_z_bg, \n",
    "        resolution=(1/xy_pixel_size,1/xy_pixel_size))\n",
    "output_filename_path"
   ]
  },
  {
   "cell_type": "code",
   "execution_count": 45,
   "metadata": {},
   "outputs": [],
   "source": [
    "# Loop everything above on a collection of images, if desired:\n",
    "working_directory = 'E:/Tim_tracking videos_all zs/'\n",
    "vids = ['TA02_90m.tif','TA04_90m.tif','TA07_90m.tif','TA05.tif','TA06.tif',\n",
    "        'TA09.tif','TA11.tif','TA12.tif','TA13.tif','TA49_51m11s.tif','TA50.tif',\n",
    "        'TL01_60m.tif','TL06.tif','TL07.tif','TL09.tif','TL10.tif','TL02.tif','TL04_2.tif', \n",
    "        'TL06-1.tif','TL10_90m.tif','TL20_2.tif','TL21.tif']\n",
    "my_offset = [0,-1,-1]  ### BE CAREFUL, THIS WILL MAKE A MASK THAT IS SHIFTED IN Z FOR BLUE AND GREEN!!!\n",
    "for vs in vids:\n",
    "    # Get track array video and tracking files:\n",
    "    track_array_filename = 'Tracks_'+vs[0:-4]+'_crop_pad_5.tif'\n",
    "    track_filename = track_array_filename[:-15] + '.csv'\n",
    "\n",
    "    # Read in the track array video \n",
    "    track_array_vid = imread(working_directory + track_array_filename)  # Read in track array .tif file\n",
    "\n",
    "    # Read in tracks as a \"dataframes (df)\"\n",
    "    track_array_df = pd.read_csv(working_directory + track_filename)\n",
    "\n",
    "    # Make sure color channels are the last dimension of the track array\n",
    "    dims = list(track_array_vid.shape)\n",
    "    if len(dims) != 3:     # check if just a single channel video\n",
    "        n_channels = min(dims)\n",
    "        n_channels_index = dims.index(n_channels)\n",
    "        track_array_vid = np.moveaxis(track_array_vid,n_channels_index,-1)\n",
    "\n",
    "    # Step 0: make the track array object\n",
    "    ta = TrackArray(track_array_vid, track_array_df, crop_pad)\n",
    "\n",
    "    # Step 1: subtract background in 3D capsule mask\n",
    "    my_offset = [0,-1,-1]  # !!!! This should probably be defaulted as [0,0,0]\n",
    "    capsule_mask = ta.capsule_mask(crop_pad,crop_pad,2,1,0,z_offset=my_offset)\n",
    "    arr_bg = ta.local_background_subtract(ta.arr,capsule_mask)\n",
    "    \n",
    "    # Step 2: Now do best-z projection\n",
    "    my_best_z_masks = ta.best_z_mask(1,0,z_offset = my_offset) # this part is same as above\n",
    "    arr_bg_best_z = ta.mask_projection(arr_bg, my_best_z_masks) # best-z projection\n",
    "    \n",
    "    # Step 3: Subtract background in donut rings from max projection  \n",
    "    arr_bg_best_z_bg = ta.local_background_subtract(arr_bg_best_z,ta.donut_mask_2D(5,1))\n",
    "\n",
    "    # Output background-subtracted and max-z projected track array \n",
    "    output_filename_path = working_directory + track_array_filename[0:-4] + '_bg-sub_bestz_bg-sub.tif'\n",
    "    io.imsave(output_filename_path,\n",
    "            arr_bg_best_z_bg, \n",
    "            resolution=(1/xy_pixel_size,1/xy_pixel_size))"
   ]
  },
  {
   "cell_type": "markdown",
   "metadata": {},
   "source": [
    "### Concatentate all track arrays of interest into one giant track array object"
   ]
  },
  {
   "cell_type": "code",
   "execution_count": 2,
   "metadata": {},
   "outputs": [],
   "source": [
    "# Specify basic track array parameters (in case not done above)\n",
    "crop_pad = 5    # specifies the size of crops in track arary. If 5, then crops are (2*5 + 1 = 11) x 11\n",
    "xy_pixel_size = 130   # voxel  xy dimensions in crops\n",
    "z_pixel_size = 500   # voxel z dimension\n",
    "\n",
    "# Specify working directory and files you want to read in:\n",
    "working_directory = 'C:/Users/tim_s/OneDrive - Colostate/Stasevich Lab/Our papers/Ago2Tethering/TimFastTrackAnalysis/'\n",
    "vids_TA = ['TA02_90m.tif','TA04_90m.tif','TA07_90m.tif','TA05.tif','TA06.tif',\n",
    "        'TA09.tif','TA11.tif','TA12.tif','TA13.tif','TA49_51m11s.tif','TA50.tif']\n",
    "vids_TL = ['TL01_60m.tif','TL06.tif','TL07.tif','TL09.tif','TL10.tif','TL02.tif','TL04_2.tif', \n",
    "        'TL06-1.tif','TL10_90m.tif','TL20_2.tif','TL21.tif']\n",
    "crop_pad = 5    # specifies the size of crops in track arary. If 5, then crops are (2*5 + 1 = 11) x 11\n",
    "#track_array_filenames = ['Tracks_' + videos[:-4] + '_crop_pad_' + \n",
    "#                          str(crop_pad) + '.tif' for videos in vids]\n",
    "track_array_filenames_TA = ['Tracks_' + videos[:-4] + '_crop_pad_' + \n",
    "                          str(crop_pad) + '_bg-sub_bestz_bg-sub.tif' for videos in vids_TA]\n",
    "track_array_filenames_TL = ['Tracks_' + videos[:-4] + '_crop_pad_' + \n",
    "                          str(crop_pad) + '_bg-sub_bestz_bg-sub.tif' for videos in vids_TL]"
   ]
  },
  {
   "cell_type": "code",
   "execution_count": 3,
   "metadata": {},
   "outputs": [],
   "source": [
    "# Read in all track array videos and corresponding tracking files:\n",
    "track_array_vids_TA = [imread(working_directory + i) for i in track_array_filenames_TA]  # Read in track array .tif file\n",
    "track_files_TA = [pd.read_csv(working_directory + 'Tracks_' + videos[:-4]+'.csv') for videos in vids_TA] \n",
    "\n",
    "track_array_vids_TL = [imread(working_directory + i) for i in track_array_filenames_TL]  # Read in track array .tif file\n",
    "track_files_TL = [pd.read_csv(working_directory + 'Tracks_' + videos[:-4]+'.csv') for videos in vids_TL] \n",
    "\n",
    "# Concatentate the tracking files:\n",
    "tracks_all_TA = pd.concat(track_files_TA, axis=0, sort=False) \n",
    "tracks_all_TL = pd.concat(track_files_TL, axis=0, sort=False) \n",
    "\n",
    "# Concatenate the tracking_array_vids:\n",
    "track_array_all_TA = concat_crop_array_vids(track_array_vids_TA)\n",
    "track_array_all_TL = concat_crop_array_vids(track_array_vids_TL)\n",
    "\n",
    "# Make large, single track array:\n",
    "ta_TA = TrackArray(track_array_all_TA, tracks_all_TA, crop_pad)\n",
    "ta_TL = TrackArray(track_array_all_TL, tracks_all_TL, crop_pad)"
   ]
  },
  {
   "cell_type": "code",
   "execution_count": 4,
   "metadata": {},
   "outputs": [],
   "source": [
    "# Renormalize intensity by multiplicative factors row-by-row so intensity that is 3 standard deviations from mean = 10000\n",
    "renorm_arr_TA = ta_TA.int_renorm_by_row(ta_TA.moving_avg(ta_TA.arr,3), 3, 10000)\n",
    "renorm_arr_TL = ta_TL.int_renorm_by_row(ta_TL.moving_avg(ta_TL.arr,3), 3, 10000)"
   ]
  },
  {
   "cell_type": "code",
   "execution_count": 6,
   "metadata": {},
   "outputs": [],
   "source": [
    "# View the background-subtracted track array and disk mask to measure intensities in:\n",
    "napari_viewer(ta_TA.moving_avg(ta_TA.arr,3),[1,1],int_range=[[0,10000],[0,10000],[0,10000]],\n",
    "              layer=[ta_TA.donut_mask_2D(3,1),ta_TA.disk_mask_2D(3)])"
   ]
  },
  {
   "cell_type": "code",
   "execution_count": 965,
   "metadata": {},
   "outputs": [],
   "source": [
    "# View the background-subtracted track array and disk mask to measure intensities in:\n",
    "napari_viewer(ta_TL.moving_avg(ta_TL.arr,3),[1,1],int_range=[[0,10000],[0,10000],[0,10000]],\n",
    "              layer=[ta_TL.donut_mask_2D(3,1),ta_TL.disk_mask_2D(3)])"
   ]
  },
  {
   "cell_type": "code",
   "execution_count": 979,
   "metadata": {},
   "outputs": [],
   "source": [
    "# View the renormalized track array:\n",
    "napari_viewer(renorm_arr_TA,[1,1],int_range=[[1500,8000],[1500,8000],[1500,8000]],\n",
    "              layer=[ta_TA.donut_mask_2D(3,1),ta_TA.disk_mask_2D(3)])"
   ]
  },
  {
   "cell_type": "code",
   "execution_count": 955,
   "metadata": {},
   "outputs": [],
   "source": [
    "# View the renormalized track array:\n",
    "napari_viewer(renorm_arr_TL,[1,1],int_range=[[1500,8000],[1500,8000],[1500,8000]],\n",
    "              layer=[ta_TL.donut_mask_2D(3,1),ta_TL.disk_mask_2D(3)])"
   ]
  },
  {
   "cell_type": "markdown",
   "metadata": {},
   "source": [
    "### Figures generated from the concatenated track array object"
   ]
  },
  {
   "cell_type": "code",
   "execution_count": 5,
   "metadata": {},
   "outputs": [],
   "source": [
    "# Choose working directory where you want to save figures and data:\n",
    "os.chdir('C:/Users/tim_s/OneDrive - Colostate/Stasevich Lab/Our papers/Ago2Tethering/TimFastTrackAnalysis/Plots/')"
   ]
  },
  {
   "cell_type": "code",
   "execution_count": 6,
   "metadata": {},
   "outputs": [],
   "source": [
    "# Cacluate the intensity in the disk mask of radius 3 (this is the mask viewed above)\n",
    "my_int_TA = ta_TA.int_in_mask(renorm_arr_TA,np.array([ta_TA.disk_mask_2D(3)]))\n",
    "my_int_TL = ta_TL.int_in_mask(renorm_arr_TL,np.array([ta_TL.disk_mask_2D(3)]))"
   ]
  },
  {
   "cell_type": "code",
   "execution_count": 7,
   "metadata": {},
   "outputs": [
    {
     "data": {
      "image/png": "[encoded data removed]",
      "text/plain": [
       "<Figure size 432x288 with 1 Axes>"
      ]
     },
     "metadata": {},
     "output_type": "display_data"
    }
   ],
   "source": [
    "# Plot the mean intensity as a function of time (essentially this is the Harringtonine curve).\n",
    "# Note this saves the plot to the specified filename (should be a .svg filename) to the workign directory.\n",
    "# As well, a .csv file containing the plot data will be generated with the same filename.\n",
    "my_arr = my_int_TA # Choose track array\n",
    "delta_t = 100 \n",
    "my_times = np.arange(my_arr.shape[1])*delta_t\n",
    "my_mean_intensity_plot(my_arr,channels=[0,1,2],labels=['mRNA','TRNL','Ago2'],xlim=[0,5000],\n",
    "               colors=['red','limegreen','blue'],markers=['o','s','^'],renorm=True, error='sem', \n",
    "                       style='seaborn-whitegrid', axeslabels=['Time (min)', 'Intensity (a.u.)'],\n",
    "                       times = my_times, filename='test.svg')"
   ]
  },
  {
   "cell_type": "code",
   "execution_count": 13,
   "metadata": {},
   "outputs": [
    {
     "data": {
      "application/vnd.jupyter.widget-view+json": {
       "model_id": "a52cffaa4b1d4bf2b3b754f3c9ec98a2",
       "version_major": 2,
       "version_minor": 0
      },
      "text/plain": [
       "interactive(children=(IntSlider(value=12, description='n', max=25), Output()), _dom_classes=('widget-interact'…"
      ]
     },
     "metadata": {},
     "output_type": "display_data"
    },
    {
     "data": {
      "text/plain": [
       "<function __main__.myfun(n)>"
      ]
     },
     "execution_count": 13,
     "metadata": {},
     "output_type": "execute_result"
    }
   ],
   "source": [
    "# View concatenated track array intensities row-by-row:\n",
    "my_arr = my_int_TA\n",
    "def myfun(n):\n",
    "    my_intensity_plot(my_arr,n,channels=[0,1,2],xlim=[0,50],ylim=[-500,2500],\n",
    "                      colors=['red','limegreen','mediumblue'],markers=['o','d','v'],labels=['mRNA','TRNL','Ago2'])\n",
    "interact(myfun,n=(0,len(my_arr)-1,1))"
   ]
  },
  {
   "cell_type": "code",
   "execution_count": null,
   "metadata": {},
   "outputs": [],
   "source": []
  }
 ],
 "metadata": {
  "kernelspec": {
   "display_name": "Python 3",
   "language": "python",
   "name": "python3"
  },
  "language_info": {
   "codemirror_mode": {
    "name": "ipython",
    "version": 3
   },
   "file_extension": ".py",
   "mimetype": "text/x-python",
   "name": "python",
   "nbconvert_exporter": "python",
   "pygments_lexer": "ipython3",
   "version": "3.8.5"
  }
 },
 "nbformat": 4,
 "nbformat_minor": 4
}
