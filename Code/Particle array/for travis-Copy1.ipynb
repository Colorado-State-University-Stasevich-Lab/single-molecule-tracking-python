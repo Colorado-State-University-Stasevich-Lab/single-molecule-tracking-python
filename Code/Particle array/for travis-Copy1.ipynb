{
 "cells": [
  {
   "cell_type": "code",
   "execution_count": 156,
   "metadata": {},
   "outputs": [],
   "source": [
    "# To manipulate arrays\n",
    "import numpy as np \n",
    "# To import images \n",
    "\n",
    "# To handle track DataFrames\n",
    "import pandas as pd\n",
    "\n",
    "import os"
   ]
  },
  {
   "cell_type": "code",
   "execution_count": null,
   "metadata": {},
   "outputs": [],
   "source": [
    " "
   ]
  },
  {
   "cell_type": "code",
   "execution_count": 157,
   "metadata": {},
   "outputs": [],
   "source": [
    "folder = '/Users/ccialek/Downloads/tsv-utils-master/tsv-select/tests/'\n",
    "files = folder+'*zzz.tsv'"
   ]
  },
  {
   "cell_type": "code",
   "execution_count": 158,
   "metadata": {},
   "outputs": [
    {
     "name": "stdout",
     "output_type": "stream",
     "text": [
      "/mydir/input_8xlong copy 3zzz.tsv\n",
      "/mydir/input_8xlong copy 5zzz.tsv\n",
      "/mydir/input_8xlong copy 2zzz.tsv\n",
      "/mydir/input_8xlongzzz.tsv\n",
      "/mydir/input_8xlong copy 4zzz.tsv\n",
      "/mydir/input_8xlong copy 6zzz.tsv\n"
     ]
    }
   ],
   "source": [
    "filelist = []\n",
    "for file in os.listdir(folder):\n",
    "    if file.endswith(\"zzz.tsv\"):\n",
    "        print(os.path.join(\"/mydir\", file))\n",
    "        name = str(os.path.join(\"/mydir\", file))\n",
    "        filelist += name"
   ]
  },
  {
   "cell_type": "code",
   "execution_count": 159,
   "metadata": {},
   "outputs": [],
   "source": [
    "extensions = [\".tsv\"]\n",
    "L = [f for f in os.listdir(folder) if os.path.splitext(f)[1] in extensions]"
   ]
  },
  {
   "cell_type": "code",
   "execution_count": 160,
   "metadata": {},
   "outputs": [
    {
     "data": {
      "text/plain": [
       "['input_8xlong copy 3zzz.tsv',\n",
       " 'input_8xlong copy 5zzz.tsv',\n",
       " 'input_8xlong copyzzz copy.tsv',\n",
       " 'input_8xlong copy 2zzz.tsv',\n",
       " 'input_8xlongzzz.tsv',\n",
       " 'input_8xlong copy 4zzz.tsv',\n",
       " 'input_8xlong copy 6zzz.tsv']"
      ]
     },
     "execution_count": 160,
     "metadata": {},
     "output_type": "execute_result"
    }
   ],
   "source": [
    "L"
   ]
  },
  {
   "cell_type": "code",
   "execution_count": null,
   "metadata": {},
   "outputs": [],
   "source": []
  },
  {
   "cell_type": "code",
   "execution_count": 161,
   "metadata": {},
   "outputs": [],
   "source": [
    "df = pd.read_csv(\"/Users/ccialek/Downloads/tsv-utils-master/tsv-select/tests/input_8xlongzzz.tsv\", \n",
    "                 delimiter=\"\\t\", usecols = [\"c-1\"])\n"
   ]
  },
  {
   "cell_type": "code",
   "execution_count": 162,
   "metadata": {},
   "outputs": [
    {
     "data": {
      "text/plain": [
       "(290, 1)"
      ]
     },
     "execution_count": 162,
     "metadata": {},
     "output_type": "execute_result"
    }
   ],
   "source": [
    "df.shape"
   ]
  },
  {
   "cell_type": "code",
   "execution_count": 163,
   "metadata": {
    "scrolled": true
   },
   "outputs": [
    {
     "data": {
      "text/html": [
       "<div>\n",
       "<style scoped>\n",
       "    .dataframe tbody tr th:only-of-type {\n",
       "        vertical-align: middle;\n",
       "    }\n",
       "\n",
       "    .dataframe tbody tr th {\n",
       "        vertical-align: top;\n",
       "    }\n",
       "\n",
       "    .dataframe thead th {\n",
       "        text-align: right;\n",
       "    }\n",
       "</style>\n",
       "<table border=\"1\" class=\"dataframe\">\n",
       "  <thead>\n",
       "    <tr style=\"text-align: right;\">\n",
       "      <th></th>\n",
       "      <th>c-1</th>\n",
       "    </tr>\n",
       "  </thead>\n",
       "  <tbody>\n",
       "    <tr>\n",
       "      <th>0</th>\n",
       "      <td>pechschwarz</td>\n",
       "    </tr>\n",
       "    <tr>\n",
       "      <th>1</th>\n",
       "      <td>púrpura</td>\n",
       "    </tr>\n",
       "    <tr>\n",
       "      <th>2</th>\n",
       "      <td>Grünspan</td>\n",
       "    </tr>\n",
       "    <tr>\n",
       "      <th>3</th>\n",
       "      <td>Red-violet</td>\n",
       "    </tr>\n",
       "    <tr>\n",
       "      <th>4</th>\n",
       "      <td>violeta</td>\n",
       "    </tr>\n",
       "    <tr>\n",
       "      <th>...</th>\n",
       "      <td>...</td>\n",
       "    </tr>\n",
       "    <tr>\n",
       "      <th>285</th>\n",
       "      <td>fumée</td>\n",
       "    </tr>\n",
       "    <tr>\n",
       "      <th>286</th>\n",
       "      <td>jaune</td>\n",
       "    </tr>\n",
       "    <tr>\n",
       "      <th>287</th>\n",
       "      <td>pechschwarz</td>\n",
       "    </tr>\n",
       "    <tr>\n",
       "      <th>288</th>\n",
       "      <td>zitronengelb</td>\n",
       "    </tr>\n",
       "    <tr>\n",
       "      <th>289</th>\n",
       "      <td>schneeweiß</td>\n",
       "    </tr>\n",
       "  </tbody>\n",
       "</table>\n",
       "<p>290 rows × 1 columns</p>\n",
       "</div>"
      ],
      "text/plain": [
       "              c-1\n",
       "0     pechschwarz\n",
       "1         púrpura\n",
       "2        Grünspan\n",
       "3      Red-violet\n",
       "4         violeta\n",
       "..            ...\n",
       "285         fumée\n",
       "286         jaune\n",
       "287   pechschwarz\n",
       "288  zitronengelb\n",
       "289    schneeweiß\n",
       "\n",
       "[290 rows x 1 columns]"
      ]
     },
     "execution_count": 163,
     "metadata": {},
     "output_type": "execute_result"
    }
   ],
   "source": [
    "df"
   ]
  },
  {
   "cell_type": "code",
   "execution_count": 164,
   "metadata": {},
   "outputs": [
    {
     "name": "stdout",
     "output_type": "stream",
     "text": [
      "           c-1\n",
      "0  pechschwarz\n"
     ]
    }
   ],
   "source": [
    "print(df[:1])"
   ]
  },
  {
   "cell_type": "code",
   "execution_count": 171,
   "metadata": {},
   "outputs": [
    {
     "name": "stdout",
     "output_type": "stream",
     "text": [
      "           c-1\n",
      "0  pechschwarz\n",
      "           c-1\n",
      "0  pechschwarz\n",
      "           c-1\n",
      "0  pechschwarz\n",
      "           c-1\n",
      "0  pechschwarz\n",
      "           c-1\n",
      "0  pechschwarz\n",
      "           c-1\n",
      "0  pechschwarz\n",
      "           c-1\n",
      "0  pechschwarz\n"
     ]
    }
   ],
   "source": [
    "for f in L: \n",
    "    name = folder + f\n",
    "    #print(name)\n",
    "    pd.read_csv(name, delimiter=\"\\t\", usecols = [\"c-1\"]) \n",
    "    print(df[:1])\n",
    "    \n",
    "    "
   ]
  },
  {
   "cell_type": "code",
   "execution_count": 172,
   "metadata": {},
   "outputs": [
    {
     "data": {
      "text/plain": [
       "str"
      ]
     },
     "execution_count": 172,
     "metadata": {},
     "output_type": "execute_result"
    }
   ],
   "source": [
    "type(folder)"
   ]
  },
  {
   "cell_type": "code",
   "execution_count": 173,
   "metadata": {},
   "outputs": [
    {
     "data": {
      "text/plain": [
       "'/Users/ccialek/Downloads/tsv-utils-master/tsv-select/tests/input_8xlong copy 3zzz.tsv'"
      ]
     },
     "execution_count": 173,
     "metadata": {},
     "output_type": "execute_result"
    }
   ],
   "source": [
    "folder + L[0]"
   ]
  },
  {
   "cell_type": "code",
   "execution_count": null,
   "metadata": {},
   "outputs": [],
   "source": []
  },
  {
   "cell_type": "code",
   "execution_count": null,
   "metadata": {},
   "outputs": [],
   "source": []
  }
 ],
 "metadata": {
  "kernelspec": {
   "display_name": "Python 3",
   "language": "python",
   "name": "python3"
  },
  "language_info": {
   "codemirror_mode": {
    "name": "ipython",
    "version": 3
   },
   "file_extension": ".py",
   "mimetype": "text/x-python",
   "name": "python",
   "nbconvert_exporter": "python",
   "pygments_lexer": "ipython3",
   "version": "3.8.5"
  }
 },
 "nbformat": 4,
 "nbformat_minor": 4
}
