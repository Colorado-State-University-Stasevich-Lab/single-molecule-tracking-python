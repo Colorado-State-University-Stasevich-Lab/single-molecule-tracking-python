{
 "cells": [
  {
   "cell_type": "markdown",
   "metadata": {},
   "source": [
    "### Initiation"
   ]
  },
  {
   "cell_type": "code",
   "execution_count": 1,
   "metadata": {
    "jupyter": {
     "source_hidden": true
    }
   },
   "outputs": [
    {
     "name": "stdout",
     "output_type": "stream",
     "text": [
      "Error importing cv2, the manual selection for the mask will not work.\n",
      "         _____ _   _____    ____       _              ________ \n",
      "   _____/ ___// | / /   |  / __ \\_____(_)___ ___     /  _/ __ \\\n",
      "  / ___/\\__ \\/  |/ / /| | / /_/ / ___/ / __ `__ \\    / // /_/ /\n",
      " / /   ___/ / /|  / ___ |/ ____(__  ) / / / / / /  _/ // ____/ \n",
      "/_/   /____/_/ |_/_/  |_/_/   /____/_/_/ /_/ /_/  /___/_/      \n",
      "                                                               \n",
      "\n"
     ]
    }
   ],
   "source": [
    "# To manipulate arrays\n",
    "import numpy as np \n",
    "# To import images \n",
    "\n",
    "# To handle track DataFrames\n",
    "import pandas as pd\n",
    "\n",
    "# To import images\n",
    "from skimage import io \n",
    "from skimage.io import imread\n",
    "\n",
    "# For TrackPy\n",
    "import trackpy as tp\n",
    "\n",
    "# To make plots\n",
    "import matplotlib as mpl \n",
    "import matplotlib.pyplot as plt \n",
    "import seaborn as sns; sns.set()  \n",
    "\n",
    "# To work inline; change to %matplotlib notebook for interactive plotting\n",
    "%matplotlib inline \n",
    "\n",
    "# Napari \n",
    "%gui qt5 \n",
    "from skimage import data\n",
    "import napari\n",
    "\n",
    "# To create interactive elements\n",
    "import ipywidgets as widgets \n",
    "from ipywidgets import interact, interactive, fixed, interact_manual, Button, HBox, VBox, Layout, GridspecLayout\n",
    "from ipywidgets.embed import embed_minimal_html, dependency_state\n",
    "\n",
    "# Image processing and filters\n",
    "from skimage.filters import difference_of_gaussians\n",
    "\n",
    "# Iteration tools such as groupby \n",
    "import itertools\n",
    "\n",
    "# For directories \n",
    "import os\n",
    "\n",
    "# For reloading a library when testing\n",
    "import importlib\n",
    "\n",
    "# For deleting/reloading modules in another file for code testing\n",
    "import sys\n",
    "\n",
    "# For statistics\n",
    "from scipy import stats\n",
    "\n",
    "# Import trackArrayTools\n",
    "from trackArrayTools import *\n",
    "\n",
    "#rSNAPsim_IP\n",
    "cwd = os.getcwd()  # get current working director\n",
    "#os.chdir('../rSNAPsim_IP/rSNAPsim_IP/') # assume rSNAPsim_IP is  one directory up\n",
    "os.chdir('/Users/ccialek/Documents/GitHub/single-molecule-tracking-python/Code/rSNAPsim_IP/rSNAPsim_IP/')\n",
    "import rSNAPsim_IP as rss_IP #importing rSNAPsim.\n",
    "os.chdir(cwd) # change back to original current directory (the directory this file is in)\n",
    "\n",
    "#del sys.modules['trackArrayTools']  # Use this if you are coding new class methods and want to reread trackArrayTools.py file\n",
    "#from trackArrayTools import *"
   ]
  },
  {
   "cell_type": "markdown",
   "metadata": {},
   "source": [
    "### Use Beads to make homography matrix"
   ]
  },
  {
   "cell_type": "code",
   "execution_count": 2,
   "metadata": {},
   "outputs": [],
   "source": [
    "beads_path = '/Volumes/MINI/ht_mini/102418/beads/'"
   ]
  },
  {
   "cell_type": "code",
   "execution_count": 10,
   "metadata": {},
   "outputs": [],
   "source": [
    "# Loading the figure with beads so track array can be registered\n",
    "# Dimension 1 is the number of channel. Red and Green. # Dimension 2 is the x axis. # Dimension 3 is the y axis.\n",
    "figWithBeads = beads_path + 'Beads02.tif'\n",
    "im_beads = io.imread(figWithBeads) # reading the image"
   ]
  },
  {
   "cell_type": "code",
   "execution_count": 11,
   "metadata": {},
   "outputs": [
    {
     "name": "stdout",
     "output_type": "stream",
     "text": [
      "The number of spots detected for the red channel are:\n",
      "(27, 2)\n",
      "The number of spots detected for the green channel are:\n",
      "(27, 2)\n",
      "\n",
      "The homography matrix is:\n"
     ]
    }
   ],
   "source": [
    "# Using rSNAPSim to get the homography matrix to align the green/blue channels with red\n",
    "temp_obj_beads = rss_IP.BeadsAlignment(im_beads)\n",
    "[my_homography,positions_green,positions_red] = temp_obj_beads.make_beads_alignment()  # !!! Adjusted Luis' code to spit this info out"
   ]
  },
  {
   "cell_type": "code",
   "execution_count": 12,
   "metadata": {
    "scrolled": true
   },
   "outputs": [
    {
     "name": "stdout",
     "output_type": "stream",
     "text": [
      "[original distance, corrected distance (shift red to green), corrected distance (shift green to red)]\n",
      "[0.93986124, 0.4727958713629538, 0.4721710276163765]\n",
      "[2.1131139, 1.129279770471118, 1.1266258943106517]\n",
      "[0.23059744, 0.20853505900814967, 0.20779949977907786]\n",
      "[0.59770447, 0.7296214500907973, 0.7285839739937503]\n",
      "[0.039131362, 0.2299711760907418, 0.22918388163193276]\n",
      "[0.9353944, 0.09405272769584216, 0.09374569955559027]\n",
      "[0.86643803, 0.1768162531840782, 0.17620659111705103]\n",
      "[0.2640919, 0.24347580954858075, 0.24287571603545172]\n",
      "[0.4100614, 0.17279335515511712, 0.17260205749492374]\n",
      "[0.49377328, 0.5270422902469228, 0.5254178784339315]\n",
      "[0.954388, 0.38855732733195164, 0.3875891721986097]\n",
      "[1.0096192, 0.5266581623356517, 0.5256742605867801]\n",
      "[0.9731978, 0.293684397711788, 0.29278211228020207]\n",
      "[0.89174926, 0.38016951263219634, 0.37907371384226807]\n",
      "[0.98712146, 0.31135699971695363, 0.3104145970177821]\n",
      "[0.85314596, 0.2505499797337539, 0.2498230367767323]\n",
      "[1.0592673, 0.4576498752373992, 0.4560687682168308]\n",
      "[0.9148204, 0.2503791141139893, 0.24953076357622733]\n",
      "[1.5918674, 0.5572927420017841, 0.55659614747614]\n",
      "[1.0198382, 0.07788631391325332, 0.07764784622316666]\n",
      "[1.026628, 0.3863157665981473, 0.38495875593318485]\n",
      "[1.1290836, 0.0023589282442524014, 0.0023670872777735467]\n",
      "[1.7654144, 0.3458566297354296, 0.3455888299702511]\n",
      "[1.884758, 0.38626219575368176, 0.3860806820514459]\n",
      "[1.8032131, 0.032625727083235787, 0.03291371453084215]\n",
      "[1.5135543, 0.8729735751091784, 0.8708033397256695]\n",
      "[2.6368349, 0.587672778350047, 0.5873961184200618]\n"
     ]
    }
   ],
   "source": [
    "# Check that the homography matrix is working:\n",
    "my_homography_inverse = np.linalg.inv(my_homography)  # This is the transformation we use to shift green to red\n",
    "print('[original distance, corrected distance (shift red to green), corrected distance (shift green to red)]' )\n",
    "for i in np.arange(len(positions_green)):\n",
    "    g0=positions_green[i]\n",
    "    g=np.dot(my_homography_inverse,[positions_green[i,0],positions_green[i,1],1])[0:2]  # Correct green/blue\n",
    "    r0=positions_red[i]\n",
    "    r=np.dot(my_homography,[positions_red[i,0],positions_red[i,1],1])[0:2]  # What you'll do: shift red to green\n",
    "    print([np.linalg.norm(g0-r0),np.linalg.norm(g0-r),np.linalg.norm(g-r0)]) # Check corrections"
   ]
  },
  {
   "cell_type": "markdown",
   "metadata": {},
   "source": [
    "### \n",
    "### Set current working directory, track array filenames, and basic parameters"
   ]
  },
  {
   "cell_type": "code",
   "execution_count": 43,
   "metadata": {},
   "outputs": [],
   "source": [
    "# Enter in the following:\n",
    "crop_pad = 5    # specifies the size of crops in track arary. If 5, then crops are (2*5 + 1 = 11) x 11\n",
    "xy_pixel_size = 130   # voxel  xy dimensions in crops\n",
    "z_pixel_size = 500   # voxel z dimension\n",
    "working_directory = '/Volumes/MINI/ht_mini/102418/Analysis/'\n",
    "video_3D_filename_path ='/Volumes/MINI/ht_mini/102418/'\n",
    "video_3D_filename = 'TA06_har_bot.tif'"
   ]
  },
  {
   "cell_type": "markdown",
   "metadata": {},
   "source": [
    "### Creating Track Array (only done once using original 3D video and tracks)"
   ]
  },
  {
   "cell_type": "code",
   "execution_count": 44,
   "metadata": {
    "scrolled": true
   },
   "outputs": [
    {
     "data": {
      "text/plain": [
       "['Particles_TA06_har_bot_crop_pad_5.tif', 'Particles_TA06_har_bot.csv']"
      ]
     },
     "execution_count": 44,
     "metadata": {},
     "output_type": "execute_result"
    }
   ],
   "source": [
    "# For display, so z and xy are shown properly when viewing track array\n",
    "z_renorm = z_pixel_size/xy_pixel_size  \n",
    "\n",
    "#  Track array filenames should be the following:\n",
    "track_array_filename = 'Particles_' + video_3D_filename[:-4] + '_crop_pad_' + str(crop_pad) + '.tif' \n",
    "track_filename = track_array_filename[:-15] + '.csv'\n",
    "[track_array_filename, track_filename]"
   ]
  },
  {
   "cell_type": "code",
   "execution_count": 45,
   "metadata": {},
   "outputs": [],
   "source": [
    "# Read in the original 3D video \n",
    "video_3D = imread(video_3D_filename_path+video_3D_filename)"
   ]
  },
  {
   "cell_type": "code",
   "execution_count": 46,
   "metadata": {},
   "outputs": [],
   "source": [
    "# Create track array tif video from the original 3D video\n",
    "# This only needs to be done once. Thereafter, can skip and just work with track array itself\n",
    "video_3D = imread(video_3D_filename_path + video_3D_filename)\n",
    "dims = list(video_3D.shape)\n",
    "if len(dims) == 4:     # check if just a single channel video\n",
    "    n_channels = 1\n",
    "    n_frames, z_slices, height_y, width_x = dims\n",
    "else:\n",
    "    n_channels = min(dims)\n",
    "    n_channels_index = dims.index(n_channels)   # find index of n_channels, which is assumed to be smallest dimension \n",
    "    dims.remove(n_channels)    \n",
    "    video_3D = np.moveaxis(video_3D,n_channels_index,-1)  # move channels to last dimension of array (assumed by napari)\n",
    "    n_frames, z_slices, height_y, width_x = dims"
   ]
  },
  {
   "cell_type": "code",
   "execution_count": 48,
   "metadata": {
    "scrolled": true
   },
   "outputs": [
    {
     "data": {
      "text/html": [
       "<div>\n",
       "<style scoped>\n",
       "    .dataframe tbody tr th:only-of-type {\n",
       "        vertical-align: middle;\n",
       "    }\n",
       "\n",
       "    .dataframe tbody tr th {\n",
       "        vertical-align: top;\n",
       "    }\n",
       "\n",
       "    .dataframe thead th {\n",
       "        text-align: right;\n",
       "    }\n",
       "</style>\n",
       "<table border=\"1\" class=\"dataframe\">\n",
       "  <thead>\n",
       "    <tr style=\"text-align: right;\">\n",
       "      <th></th>\n",
       "      <th>TRACK_ID</th>\n",
       "      <th>POSITION_T</th>\n",
       "      <th>POSITION_Z</th>\n",
       "      <th>POSITION_Y</th>\n",
       "      <th>POSITION_X</th>\n",
       "      <th>FRAMES</th>\n",
       "      <th>Y_mathematica</th>\n",
       "      <th>X_mathematica</th>\n",
       "      <th>REAL_T</th>\n",
       "    </tr>\n",
       "  </thead>\n",
       "  <tbody>\n",
       "    <tr>\n",
       "      <th>0</th>\n",
       "      <td>0</td>\n",
       "      <td>0</td>\n",
       "      <td>0</td>\n",
       "      <td>261.541813</td>\n",
       "      <td>157.033524</td>\n",
       "      <td>0</td>\n",
       "      <td>250.458187</td>\n",
       "      <td>157.033524</td>\n",
       "      <td>-4</td>\n",
       "    </tr>\n",
       "    <tr>\n",
       "      <th>1</th>\n",
       "      <td>1</td>\n",
       "      <td>0</td>\n",
       "      <td>0</td>\n",
       "      <td>291.381434</td>\n",
       "      <td>137.892393</td>\n",
       "      <td>0</td>\n",
       "      <td>220.618566</td>\n",
       "      <td>137.892393</td>\n",
       "      <td>-4</td>\n",
       "    </tr>\n",
       "    <tr>\n",
       "      <th>2</th>\n",
       "      <td>2</td>\n",
       "      <td>0</td>\n",
       "      <td>0</td>\n",
       "      <td>317.648198</td>\n",
       "      <td>258.654785</td>\n",
       "      <td>0</td>\n",
       "      <td>194.351802</td>\n",
       "      <td>258.654785</td>\n",
       "      <td>-4</td>\n",
       "    </tr>\n",
       "    <tr>\n",
       "      <th>3</th>\n",
       "      <td>3</td>\n",
       "      <td>0</td>\n",
       "      <td>0</td>\n",
       "      <td>322.492755</td>\n",
       "      <td>391.884496</td>\n",
       "      <td>0</td>\n",
       "      <td>189.507245</td>\n",
       "      <td>391.884496</td>\n",
       "      <td>-4</td>\n",
       "    </tr>\n",
       "    <tr>\n",
       "      <th>4</th>\n",
       "      <td>4</td>\n",
       "      <td>0</td>\n",
       "      <td>0</td>\n",
       "      <td>324.937810</td>\n",
       "      <td>97.687132</td>\n",
       "      <td>0</td>\n",
       "      <td>187.062190</td>\n",
       "      <td>97.687132</td>\n",
       "      <td>-4</td>\n",
       "    </tr>\n",
       "  </tbody>\n",
       "</table>\n",
       "</div>"
      ],
      "text/plain": [
       "   TRACK_ID  POSITION_T  POSITION_Z  POSITION_Y  POSITION_X  FRAMES  \\\n",
       "0         0           0           0  261.541813  157.033524       0   \n",
       "1         1           0           0  291.381434  137.892393       0   \n",
       "2         2           0           0  317.648198  258.654785       0   \n",
       "3         3           0           0  322.492755  391.884496       0   \n",
       "4         4           0           0  324.937810   97.687132       0   \n",
       "\n",
       "   Y_mathematica  X_mathematica  REAL_T  \n",
       "0     250.458187     157.033524      -4  \n",
       "1     220.618566     137.892393      -4  \n",
       "2     194.351802     258.654785      -4  \n",
       "3     189.507245     391.884496      -4  \n",
       "4     187.062190      97.687132      -4  "
      ]
     },
     "execution_count": 48,
     "metadata": {},
     "output_type": "execute_result"
    }
   ],
   "source": [
    "# Read in the tracking file that corresponds to the original 3D video\n",
    "tracks = pd.read_csv(video_3D_filename_path+track_filename) \n",
    "tracks.head()"
   ]
  },
  {
   "cell_type": "code",
   "execution_count": 49,
   "metadata": {},
   "outputs": [
    {
     "data": {
      "text/plain": [
       "<Points layer 'particles' at 0x7feaf3913940>"
      ]
     },
     "execution_count": 49,
     "metadata": {},
     "output_type": "execute_result"
    }
   ],
   "source": [
    "viewer = napari.Viewer()\n",
    "viewer.add_image(video_3D[:,:,:,:,0],name='red',blending=\"additive\", scale=[z_renorm,1,1])\n",
    "particles = tracks[['POSITION_T','POSITION_Z','POSITION_Y','POSITION_X']].values\n",
    "viewer.add_points(particles, size=5, opacity = 0.3,\n",
    "                edge_color = 'yellow',\n",
    "                  face_color = 'yellow', symbol='ring')"
   ]
  },
  {
   "cell_type": "code",
   "execution_count": 50,
   "metadata": {},
   "outputs": [],
   "source": [
    "create_particle_array_video(working_directory, track_array_filename, video_3D, \n",
    "                             tracks, crop_pad, xy_pixel_size, z_pixel_size, homography = my_homography)\n",
    "# create_track_array_video(working_directory, track_array_filename, video_3D[0::10], tracks, crop_pad, xy_pixel_size, z_pixel_size)"
   ]
  },
  {
   "cell_type": "markdown",
   "metadata": {},
   "source": [
    "### Track Array analysis: 3D background subtract + best-z projection + 2D background subtract"
   ]
  },
  {
   "cell_type": "code",
   "execution_count": 55,
   "metadata": {},
   "outputs": [],
   "source": [
    "# Just in case you want to update trackArrayTools without having to restart Kernel\n",
    "#del sys.modules['trackArrayTools']  # Use this if you are coding new class methods and want to reread trackArrayTools.py file\n",
    "#from trackArrayTools import *\n",
    "\n",
    "# Choose which track array you want to work with:\n",
    "#working_directory = '/Volumes/SMALL/ht/1103/Analysis/'\n",
    "track_array_filename ='Particles_' + video_3D_filename[:-4]+ '_crop_pad_5.tif'\n",
    "\n",
    "# The corresponding tracking file should be in the same directory and have the following filename: \n",
    "track_filename = track_array_filename[:-15] + '.csv'\n",
    "\n",
    "# Read in the track array video \n",
    "track_array_vid = imread(working_directory + track_array_filename)  # Read in track array .tif file\n",
    "\n",
    "# Read in tracks as a \"dataframes (df)\"\n",
    "track_array_df = pd.read_csv(working_directory + track_filename)\n",
    "\n",
    "# Make sure color channels are the last dimension of the track array\n",
    "dims = list(track_array_vid.shape)\n",
    "if len(dims) != 3:     # check if just a single channel video\n",
    "    n_channels = min(dims)\n",
    "    n_channels_index = dims.index(n_channels)\n",
    "    track_array_vid = np.moveaxis(track_array_vid,n_channels_index,-1)"
   ]
  },
  {
   "cell_type": "code",
   "execution_count": 56,
   "metadata": {},
   "outputs": [],
   "source": [
    "# Step 0: Create the track array object:\n",
    "#del sys.modules['trackArrayTools']  # Use this if you are coding new class methods and want to reread trackArrayTools.py file\n",
    "#from trackArrayTools import *\n",
    "ta = TrackArray(track_array_vid, track_array_df, crop_pad)"
   ]
  },
  {
   "cell_type": "code",
   "execution_count": 57,
   "metadata": {},
   "outputs": [],
   "source": [
    "# Step 1: subtract background in 3D capsule mask\n",
    "my_offset = [0,-1,-1]  ### For 3-color, could be [0,-1,-1]; BE CAREFUL, THIS WILL MAKE A MASK THAT IS SHIFTED IN Z FOR BLUE AND GREEN!!!\n",
    "capsule_mask = ta.capsule_mask(crop_pad,crop_pad,2,1,0,z_offset=my_offset)\n",
    "arr_bg = ta.local_background_subtract(ta.arr,capsule_mask)\n",
    "\n",
    "# Check with napari\n",
    "max = np.max(arr_bg,axis=(0,1,2)) # find max intensities for setting intensity range\n",
    "my_range = [[0,max[ch]] for ch in np.arange(len(max))]\n",
    "#napari_viewer(arr_bg,[z_renorm,1,1],int_range=my_range,layer=[capsule_mask[:,:,:,0],capsule_mask[:,:,:,1]])"
   ]
  },
  {
   "cell_type": "code",
   "execution_count": 58,
   "metadata": {},
   "outputs": [],
   "source": [
    "# Step 2: Now do best-z projection\n",
    "my_best_z_masks = ta.best_z_mask(1,0,z_offset = my_offset) # this part is same as above\n",
    "arr_bg_best_z = ta.mask_projection(arr_bg, my_best_z_masks) # best-z projection\n",
    "\n",
    "# Check with napari\n",
    "max = np.max(arr_bg_best_z,axis=(0,1)) # find max intensities for setting intensity range\n",
    "my_range = [[0,max[ch]] for ch in np.arange(len(max))]\n",
    "#napari_viewer(arr_bg_best_z,[1,1],int_range=my_range)"
   ]
  },
  {
   "cell_type": "code",
   "execution_count": 59,
   "metadata": {},
   "outputs": [],
   "source": [
    "# Step 3: Subtract background in donut rings from max projection  \n",
    "arr_bg_best_z_bg = ta.local_background_subtract(arr_bg_best_z,ta.donut_mask_2D(5,1))\n",
    "\n",
    "# Check with napari and show donut mask\n",
    "max = np.max(arr_bg_best_z_bg,axis=(0,1)) # find max intensities for setting intensity range\n",
    "my_range = [[0,max[ch]] for ch in np.arange(len(max))]\n",
    "#napari_viewer(arr_bg_best_z_bg,[1,1],int_range=my_range,layer=[ta.donut_mask_2D(5,1)])"
   ]
  },
  {
   "cell_type": "code",
   "execution_count": 60,
   "metadata": {},
   "outputs": [
    {
     "data": {
      "text/plain": [
       "'/Volumes/MINI/ht_mini/102418/Analysis/Particles_TA06_har_bot_crop_pad_5_bg-sub_bestz.tif'"
      ]
     },
     "execution_count": 60,
     "metadata": {},
     "output_type": "execute_result"
    }
   ],
   "source": [
    "# Output background-subtracted and max-z projected track array \n",
    "output_filename_path = working_directory + track_array_filename[0:-4] + '_bg-sub_bestz_bg-sub.tif'\n",
    "io.imsave(output_filename_path,\n",
    "        arr_bg_best_z_bg, \n",
    "        resolution=(1/xy_pixel_size,1/xy_pixel_size))\n",
    "# Also output just single background-subtracted image\n",
    "output_filename_path = working_directory + track_array_filename[0:-4] + '_bg-sub_bestz.tif'\n",
    "io.imsave(output_filename_path,\n",
    "        arr_bg_best_z, \n",
    "        resolution=(1/xy_pixel_size,1/xy_pixel_size))\n",
    "output_filename_path\n",
    "output_filename_path"
   ]
  },
  {
   "cell_type": "code",
   "execution_count": null,
   "metadata": {},
   "outputs": [],
   "source": [
    " "
   ]
  },
  {
   "cell_type": "markdown",
   "metadata": {},
   "source": [
    "### \n",
    "### Loop function: "
   ]
  },
  {
   "cell_type": "code",
   "execution_count": 294,
   "metadata": {},
   "outputs": [],
   "source": [
    "# Loop everything above on a collection of images, if desired:\n",
    "working_directory = '/Volumes/SMALL/ht/1103/Analysis/'\n",
    "vids = ['TL02harc.tif', 'TL03harc.tif','TL04harc.tif','TL05harc.tif','TL06harc.tif','TL07harc.tif'] # Add to this list to batch process\n",
    "my_offset = [0,-1,-1]  ### BE CAREFUL, THIS WILL MAKE A MASK THAT IS SHIFTED IN Z FOR BLUE AND GREEN!!!\n",
    "for vs in vids:\n",
    "    # Get track array video and tracking files:\n",
    "    track_array_filename = 'Particles_'+vs[0:-4]+'_crop_pad_5.tif'\n",
    "    track_filename = track_array_filename[:-15] + '.csv'\n",
    "\n",
    "    # Read in the track array video \n",
    "    track_array_vid = imread(working_directory + track_array_filename)  # Read in track array .tif file\n",
    "\n",
    "    # Read in tracks as a \"dataframes (df)\"\n",
    "    track_array_df = pd.read_csv(working_directory + track_filename)\n",
    "\n",
    "    # Make sure color channels are the last dimension of the track array\n",
    "    dims = list(track_array_vid.shape)\n",
    "    if len(dims) != 3:     # check if just a single channel video\n",
    "        n_channels = min(dims)\n",
    "        n_channels_index = dims.index(n_channels)\n",
    "        track_array_vid = np.moveaxis(track_array_vid,n_channels_index,-1)\n",
    "\n",
    "    # Step 0: make the track array object\n",
    "    ta = TrackArray(track_array_vid, track_array_df, crop_pad)\n",
    "\n",
    "    # Step 1: subtract background in 3D capsule mask\n",
    "    my_offset = [0,-1,-1]  # !!!! This should probably be defaulted as [0,0,0]\n",
    "    capsule_mask = ta.capsule_mask(crop_pad,crop_pad,2,1,0,z_offset=my_offset)\n",
    "    arr_bg = ta.local_background_subtract(ta.arr,capsule_mask)\n",
    "    \n",
    "    # Step 2: Now do best-z projection\n",
    "    my_best_z_masks = ta.best_z_mask(1,0,z_offset = my_offset) # this part is same as above\n",
    "    arr_bg_best_z = ta.mask_projection(arr_bg, my_best_z_masks) # best-z projection\n",
    "    \n",
    "    # Step 3: Subtract background in donut rings from max projection  \n",
    "    arr_bg_best_z_bg = ta.local_background_subtract(arr_bg_best_z,ta.donut_mask_2D(5,1))\n",
    "\n",
    "    # Output background-subtracted and max-z projected track array \n",
    "    output_filename_path = working_directory + track_array_filename[0:-4] + '_bg-sub_bestz_bg-sub.tif'\n",
    "    io.imsave(output_filename_path,\n",
    "            arr_bg_best_z_bg, \n",
    "            resolution=(1/xy_pixel_size,1/xy_pixel_size))\n",
    "    \n",
    "    # Also output just single background-subtracted image\n",
    "    output_filename_path = working_directory + track_array_filename[0:-4] + '_bg-sub_bestz.tif'\n",
    "    io.imsave(output_filename_path,\n",
    "            arr_bg_best_z, \n",
    "            resolution=(1/xy_pixel_size,1/xy_pixel_size))\n",
    "    output_filename_path\n",
    "    output_filename_path"
   ]
  },
  {
   "cell_type": "markdown",
   "metadata": {},
   "source": [
    "### Concatentate all track arrays of interest into one giant track array object"
   ]
  },
  {
   "cell_type": "code",
   "execution_count": 68,
   "metadata": {},
   "outputs": [],
   "source": [
    "# Specify basic track array parameters (in case not done above)\n",
    "crop_pad = 5    # specifies the size of crops in track arary. If 5, then crops are (2*5 + 1 = 11) x 11\n",
    "xy_pixel_size = 130   # voxel  xy dimensions in crops\n",
    "z_pixel_size = 500   # voxel z dimension\n",
    "\n",
    "# Specify working directory and files you want to read in:\n",
    "working_directory =  '/Volumes/MINI/ht_mini/102418/Analysis/'\n",
    "vids_TA =['TA06_har_top.tif', 'TA04_har.tif','TA06_har_bot.tif'] \n",
    "vids_TL =['TA06_har_bot.tif'] \n",
    "crop_pad = 5    # specifies the size of crops in track arary. If 5, then crops are (2*5 + 1 = 11) x 11\n",
    "track_array_filenames_TA = ['Particles_' + videos[:-4] + '_crop_pad_' + \n",
    "                          str(crop_pad) + '_bg-sub_bestz.tif' for videos in vids_TA]\n",
    "track_array_filenames_TL = ['Particles_' + videos[:-4] + '_crop_pad_' + \n",
    "                           str(crop_pad) + '_bg-sub_bestz_bg-sub.tif' for videos in vids_TL]"
   ]
  },
  {
   "cell_type": "code",
   "execution_count": 69,
   "metadata": {},
   "outputs": [],
   "source": [
    "# Read in all track array videos and corresponding tracking files:\n",
    "track_array_vids_TA = [imread(working_directory + i) for i in track_array_filenames_TA]  # Read in track array .tif file\n",
    "track_files_TA = [pd.read_csv(working_directory + 'Particles_' + videos[:-4]+'.csv') for videos in vids_TA] \n",
    "\n",
    "track_array_vids_TL = [imread(working_directory + i) for i in track_array_filenames_TL]  # Read in track array .tif file\n",
    "track_files_TL = [pd.read_csv(working_directory + 'Particles_' + videos[:-4]+'.csv') for videos in vids_TL] \n",
    "\n",
    "# Concatentate the tracking files:\n",
    "tracks_all_TA = pd.concat(track_files_TA, axis=0, sort=False) \n",
    "tracks_all_TL = pd.concat(track_files_TL, axis=0, sort=False) \n",
    "\n",
    "# Concatenate the tracking_array_vids:\n",
    "track_array_all_TA = concat_crop_array_vids(track_array_vids_TA)\n",
    "track_array_all_TL = concat_crop_array_vids(track_array_vids_TL)\n",
    "\n",
    "# Make large, single track array:\n",
    "ta_TA = TrackArray(track_array_all_TA, tracks_all_TA, crop_pad)\n",
    "ta_TL = TrackArray(track_array_all_TL, tracks_all_TL, crop_pad)"
   ]
  },
  {
   "cell_type": "code",
   "execution_count": 70,
   "metadata": {},
   "outputs": [],
   "source": [
    "# View the background-subtracted track array and disk mask to measure intensities in:\n",
    "napari_viewer(ta_TA.moving_avg(ta_TA.arr,1),[1,1],int_range=[[0,10000] for i in np.arange(ta_TA.n_channels())],\n",
    "              layer=[ta_TA.donut_mask_2D(3,1),ta_TA.disk_mask_2D(3)])"
   ]
  },
  {
   "cell_type": "code",
   "execution_count": 71,
   "metadata": {},
   "outputs": [],
   "source": [
    "# View the background-subtracted track array and disk mask to measure intensities in:\n",
    "napari_viewer(ta_TL.moving_avg(ta_TL.arr,1),[1,1],int_range=[[-2000,10000] for i in np.arange(ta_TA.n_channels())],\n",
    "              layer=[ta_TL.donut_mask_2D(3,1),ta_TL.disk_mask_2D(3)])"
   ]
  },
  {
   "cell_type": "markdown",
   "metadata": {},
   "source": [
    "### Figures generated from the concatenated track array object"
   ]
  },
  {
   "cell_type": "code",
   "execution_count": 72,
   "metadata": {},
   "outputs": [],
   "source": [
    "# Choose working directory where you want to save figures and data:\n",
    "os.chdir( '/Volumes/MINI/ht_mini/102418/Analysis/')"
   ]
  },
  {
   "cell_type": "code",
   "execution_count": 73,
   "metadata": {},
   "outputs": [
    {
     "data": {
      "image/png": "[encoded data removed]",
      "text/plain": [
       "<Figure size 432x288 with 1 Axes>"
      ]
     },
     "metadata": {},
     "output_type": "display_data"
    }
   ],
   "source": [
    "# Try using only 3D bg-subtracted data\n",
    "my_int_TA_sig = ta_TA.int_in_mask(ta_TA.arr,np.array([ta_TA.disk_mask_2D(3)]))\n",
    "my_int_TA_bg = ta_TA.int_in_mask(ta_TA.arr,np.array([ta_TA.donut_mask_2D(5,1)]))\n",
    "my_arr = my_int_TA_sig - my_int_TA_bg # Choose track array\n",
    "delta_t = 1 \n",
    "my_times = np.arange(my_arr.shape[1])*delta_t\n",
    "my_mean_intensity_plot(np.ma.masked_equal(my_arr,0),channels=[0,1,2],labels=['mRNA','TRNL','Ago2'],xlim=[-1,66],\n",
    "               colors=['red','limegreen','blue'],markers=['o','s','^'],renorm=True, error='sem', \n",
    "                       style='seaborn-whitegrid', axeslabels=['Time (min)', 'Intensity (a.u.)'],\n",
    "                       times = my_times, filename='test.svg')"
   ]
  },
  {
   "cell_type": "markdown",
   "metadata": {},
   "source": [
    "### \n",
    "### Stop here \n",
    "### "
   ]
  },
  {
   "cell_type": "code",
   "execution_count": 27,
   "metadata": {},
   "outputs": [],
   "source": [
    "def background_in_mask(crop, mask):    \n",
    "    \"\"\"\n",
    "    Returns mean intensity within mask region of the inputted crop.\n",
    "    \"\"\"\n",
    "    myaxis =tuple(np.arange(len(crop.shape))[0:-1]) # Axis for summing mean (channels not included)\n",
    "    return np.mean(np.ma.masked_equal(crop*mask,0),axis=myaxis).data # mean, ignoring zeros and not summing over channel"
   ]
  },
  {
   "cell_type": "code",
   "execution_count": 62,
   "metadata": {},
   "outputs": [
    {
     "data": {
      "text/plain": [
       "array([[0., 0., 0.],\n",
       "       [0., 0., 0.],\n",
       "       [0., 0., 0.],\n",
       "       [0., 0., 0.],\n",
       "       [0., 0., 0.]])"
      ]
     },
     "execution_count": 62,
     "metadata": {},
     "output_type": "execute_result"
    }
   ],
   "source": [
    "np.zeros([5,3])"
   ]
  },
  {
   "cell_type": "code",
   "execution_count": 99,
   "metadata": {},
   "outputs": [],
   "source": [
    "   def local_background_subtract(crop_array, mask_array):  ### !!! would be nice to work on something other than self.arr\n",
    "        \"\"\"Returns crops after subtracting the background signal measured in masks)\n",
    "        \"\"\"\n",
    "        crops = ta_TA.array_to_crops(crop_array) # convert to indexable format w/ dims (N,T,Z,Y,X,C) \n",
    "        masks = ta_TA.array_to_crops(mask_array) # convert to indexable format w/ dims (N,T,Z,Y,X,C)\n",
    "        n_tracks = ta_TA.n_tracks()\n",
    "        n_frames = ta_TA.n_frames()\n",
    "        n_channels = ta_TA.n_channels()\n",
    "        n_dim = len(crops.shape)\n",
    "        output = np.zeros(crops.shape)\n",
    "        for n in np.arange(n_tracks):\n",
    "            for t in np.arange(n_frames):\n",
    "                background = ta_TA.background_in_mask(crops[n,t],masks[n,t])\n",
    "                for ch in np.arange(n_channels):\n",
    "                    if n_dim == 6:\n",
    "                        output[n,t,:,:,:,ch] = crops[n,t,:,:,:,ch] - background[ch] # !!! Doesn't work for single channel image\n",
    "                    if n_dim == 5:\n",
    "                        output[n,t,:,:,ch] = crops[n,t,:,:,ch] - background[ch]\n",
    "        return output#ta_TA.crops_to_array(output)"
   ]
  },
  {
   "cell_type": "code",
   "execution_count": 86,
   "metadata": {},
   "outputs": [
    {
     "data": {
      "text/plain": [
       "[(0, 1, 2), array([155.84848485, 416.8125    , 247.6       ])]"
      ]
     },
     "execution_count": 86,
     "metadata": {},
     "output_type": "execute_result"
    }
   ],
   "source": [
    "crop = ta_TA.array_to_crops(np.array([arr_bg_best_z]))[0][10]\n",
    "mask = ta_TA.array_to_crops(np.array([ta.donut_mask_2D(5,1)]))[0][10]\n",
    "[tuple(np.arange(len(crop.shape))[0:-1]),background_in_mask(crop,mask)]"
   ]
  },
  {
   "cell_type": "code",
   "execution_count": 87,
   "metadata": {},
   "outputs": [
    {
     "data": {
      "text/plain": [
       "[(0, 1), array([155.84848485, 416.8125    , 247.6       ])]"
      ]
     },
     "execution_count": 87,
     "metadata": {},
     "output_type": "execute_result"
    }
   ],
   "source": [
    "crop = ta_TA.array_to_crops(arr_bg_best_z)[0][10]\n",
    "mask = ta_TA.array_to_crops(ta.donut_mask_2D(5,1))[0][10]\n",
    "[tuple(np.arange(len(crop.shape))[0:-1]),background_in_mask(crop,mask)]"
   ]
  },
  {
   "cell_type": "code",
   "execution_count": 88,
   "metadata": {},
   "outputs": [
    {
     "data": {
      "text/plain": [
       "[True, (1, 1628, 715, 3), (1, 1628, 715, 3)]"
      ]
     },
     "execution_count": 88,
     "metadata": {},
     "output_type": "execute_result"
    }
   ],
   "source": [
    "[np.array_equal(np.array([arr_bg_best_z]),ta_TA.arr),np.array([arr_bg_best_z]).shape,\n",
    " np.array([ta.donut_mask_2D(5,1)]).shape]"
   ]
  },
  {
   "cell_type": "code",
   "execution_count": 101,
   "metadata": {},
   "outputs": [],
   "source": [
    "#arr_bg_best_z_bg = ta.local_background_subtract(arr_bg_best_z,ta.donut_mask_2D(5,1))\n",
    "t4 = local_background_subtract(arr_bg_best_z,ta_TA.donut_mask_2D(5,1))\n",
    "t4b = local_background_subtract(np.array([arr_bg_best_z]),np.array([ta_TA.donut_mask_2D(5,1)]))\n",
    "#t4c = ta_TA.array_to_crops(t4)\n",
    "#t4d = ta_TA.array_to_crops(t4b)\n",
    "t5 = ta_TA.array_to_crops(arr_bg_best_z)\n",
    "t5b = ta_TA.array_to_crops(np.array([arr_bg_best_z]))"
   ]
  },
  {
   "cell_type": "code",
   "execution_count": 110,
   "metadata": {},
   "outputs": [
    {
     "data": {
      "text/plain": [
       "[(1628, 715, 3), (1, 1628, 715, 3), True, False]"
      ]
     },
     "execution_count": 110,
     "metadata": {},
     "output_type": "execute_result"
    }
   ],
   "source": [
    "t6 = ta_TA.crops_to_array(t4)\n",
    "t6b = ta_TA.crops_to_array(t4b)\n",
    "[t6.shape,t6b.shape,np.array_equal(t4,t4b[:,:,0,:,:,:]),np.array_equal(t6,t6b[0])]"
   ]
  },
  {
   "cell_type": "code",
   "execution_count": 118,
   "metadata": {},
   "outputs": [
    {
     "data": {
      "text/plain": [
       "[array([[-348.09677419, -348.09677419, -348.09677419],\n",
       "        [-348.09677419, -348.09677419, -294.09677419],\n",
       "        [-348.09677419, -348.09677419, -161.09677419]]),\n",
       " array([[-348.09677419, -348.09677419, -348.09677419],\n",
       "        [-348.09677419, -348.09677419, -348.09677419],\n",
       "        [-348.09677419, -294.09677419, -161.09677419]])]"
      ]
     },
     "execution_count": 118,
     "metadata": {},
     "output_type": "execute_result"
    }
   ],
   "source": [
    "[t6[11:14,11:14,1].T,t6b[0,11:14,11:14,1].T]"
   ]
  },
  {
   "cell_type": "code",
   "execution_count": 106,
   "metadata": {},
   "outputs": [
    {
     "data": {
      "text/plain": [
       "[(148, 65, 11, 11, 3), (148, 65, 1, 11, 11, 3), True]"
      ]
     },
     "execution_count": 106,
     "metadata": {},
     "output_type": "execute_result"
    }
   ],
   "source": [
    "[t4.shape,t4b.shape,np.array_equal(t4,t4b[:,:,0,:,:,:])]"
   ]
  },
  {
   "cell_type": "code",
   "execution_count": null,
   "metadata": {},
   "outputs": [],
   "source": []
  },
  {
   "cell_type": "code",
   "execution_count": 104,
   "metadata": {},
   "outputs": [
    {
     "data": {
      "text/plain": [
       "[(148, 65, 11, 11, 3),\n",
       " (148, 65, 1, 11, 11, 3),\n",
       " (148, 65, 11, 11, 3),\n",
       " array([[-383.77777778, -383.77777778,  218.22222222],\n",
       "        [-383.77777778, -301.77777778, -220.77777778],\n",
       "        [-320.77777778, -166.77777778,   52.22222222]]),\n",
       " array([[-383.77777778, -383.77777778,  218.22222222],\n",
       "        [-383.77777778, -301.77777778, -220.77777778],\n",
       "        [-320.77777778, -166.77777778,   52.22222222]]),\n",
       " array([[   0,    0,  602,  557,   72,  450,  661,    0,    0,    0,  288],\n",
       "        [   0,   82,  163,    0,  302,  350,  560,  391,  414,    0,   70],\n",
       "        [  63,  217,  436,  165,  440,  132,   93,   33,  317,  178,   87],\n",
       "        [   0,  631,  206,  210,  818,  417,  282,  391,    7,    0,   25],\n",
       "        [ 384,   72,  826,  710,  620,  234,  416,  321,    0,  322,  482],\n",
       "        [ 775,  150,  660,  675,  957,  761,  684,  358,  615,   48,  282],\n",
       "        [ 233,  719,  318,  100,  433,  210,  328,   62,  559,  445,  139],\n",
       "        [ 372,  652,  663,  203,  847,  168,  770,  647,  283,  438,  460],\n",
       "        [ 102,  320,  738,  304,  399,  929,  325,  756,  183,  560,  599],\n",
       "        [ 740,  236,   77,  163,  468,  535, 1222,  312,  601,  906,  517],\n",
       "        [ 662,  644,  762,  363,  509,  375,  864,  325,  519,  433,  316]],\n",
       "       dtype=int16),\n",
       " array([[   0,    0,  602,  557,   72,  450,  661,    0,    0,    0,  288],\n",
       "        [   0,   82,  163,    0,  302,  350,  560,  391,  414,    0,   70],\n",
       "        [  63,  217,  436,  165,  440,  132,   93,   33,  317,  178,   87],\n",
       "        [   0,  631,  206,  210,  818,  417,  282,  391,    7,    0,   25],\n",
       "        [ 384,   72,  826,  710,  620,  234,  416,  321,    0,  322,  482],\n",
       "        [ 775,  150,  660,  675,  957,  761,  684,  358,  615,   48,  282],\n",
       "        [ 233,  719,  318,  100,  433,  210,  328,   62,  559,  445,  139],\n",
       "        [ 372,  652,  663,  203,  847,  168,  770,  647,  283,  438,  460],\n",
       "        [ 102,  320,  738,  304,  399,  929,  325,  756,  183,  560,  599],\n",
       "        [ 740,  236,   77,  163,  468,  535, 1222,  312,  601,  906,  517],\n",
       "        [ 662,  644,  762,  363,  509,  375,  864,  325,  519,  433,  316]],\n",
       "       dtype=int16)]"
      ]
     },
     "execution_count": 104,
     "metadata": {},
     "output_type": "execute_result"
    }
   ],
   "source": [
    "[t5.shape,t5b.shape, t4.shape,t4[0,0,0:3,0:3,1],t4b[0,0,0,0:3,0:3,1],t5[0,0,:,:,1],t5b[0,0,0,:,:,1]]"
   ]
  },
  {
   "cell_type": "code",
   "execution_count": 40,
   "metadata": {},
   "outputs": [
    {
     "data": {
      "text/plain": [
       "[(1628, 715, 3),\n",
       " (1628, 715, 3),\n",
       " False,\n",
       " array([-383, -383, -320, -383,    0], dtype=int16),\n",
       " array([-383, -383,  218,  173, -311], dtype=int16)]"
      ]
     },
     "execution_count": 40,
     "metadata": {},
     "output_type": "execute_result"
    }
   ],
   "source": [
    "[t4.shape,t4b[0].shape,np.array_equal(t4,t4b[0]),t4[0:5,0,1],t4b[0][0:5,0,1]]"
   ]
  },
  {
   "cell_type": "code",
   "execution_count": 132,
   "metadata": {},
   "outputs": [],
   "source": [
    "t3 = ta_TA.local_background_subtract(ta_TA.arr,ta_TA.donut_mask_2D(5,1))\n"
   ]
  },
  {
   "cell_type": "code",
   "execution_count": 150,
   "metadata": {},
   "outputs": [
    {
     "data": {
      "text/plain": [
       "[(1, 1628, 715, 3), (1, 1628, 715, 3), (1628, 715, 3), (1628, 715, 3)]"
      ]
     },
     "execution_count": 150,
     "metadata": {},
     "output_type": "execute_result"
    }
   ],
   "source": [
    "[t4.shape,ta_TL.arr.shape,ta_TA.donut_mask_2D(5,1).shape,ta.donut_mask_2D(5,1).shape]"
   ]
  },
  {
   "cell_type": "code",
   "execution_count": 154,
   "metadata": {},
   "outputs": [
    {
     "data": {
      "text/plain": [
       "True"
      ]
     },
     "execution_count": 154,
     "metadata": {},
     "output_type": "execute_result"
    }
   ],
   "source": [
    "np.array_equal(t4,ta_TL.arr[0])"
   ]
  },
  {
   "cell_type": "code",
   "execution_count": 135,
   "metadata": {},
   "outputs": [],
   "source": [
    "t1 = my_int_TA_sig - my_int_TA_bg\n",
    "t2 = my_int_TL_sig"
   ]
  },
  {
   "cell_type": "code",
   "execution_count": 141,
   "metadata": {},
   "outputs": [
    {
     "data": {
      "text/plain": [
       "[(148, 65, 3),\n",
       " (148, 65, 3),\n",
       " (1, 1628, 715, 3),\n",
       " (1, 1628, 715, 3),\n",
       " array([ 97.53256705, 829.01538462, 263.24915825]),\n",
       " array([ 97.72413793, 700.75862069, 200.17241379]),\n",
       " array([-383, -383, -320], dtype=int16),\n",
       " array([[-115., -383., -100.]])]"
      ]
     },
     "execution_count": 141,
     "metadata": {},
     "output_type": "execute_result"
    }
   ],
   "source": [
    "[t1.shape, t2.shape, t3.shape,ta_TL.arr.shape, t1[0:3,0,1],t2[0:3,0,1], t4[0:3,0,1],ta_TL.arr[0:3,0,1]]"
   ]
  },
  {
   "cell_type": "code",
   "execution_count": 84,
   "metadata": {},
   "outputs": [
    {
     "data": {
      "image/png": "[encoded data removed]",
      "text/plain": [
       "<Figure size 432x288 with 1 Axes>"
      ]
     },
     "metadata": {},
     "output_type": "display_data"
    }
   ],
   "source": [
    "# Try using only 3D bg-subtracted data\n",
    "my_int_TL_sig = ta_TL.int_in_mask(ta_TL.arr,np.array([ta_TL.disk_mask_2D(3)]))\n",
    "my_int_TL_bg = ta_TL.int_in_mask(ta_TL.arr,np.array([ta_TL.donut_mask_2D(5,1)]))\n",
    "my_arr = my_int_TL_sig # Choose track array\n",
    "delta_t = 1 \n",
    "my_times = np.arange(my_arr.shape[1])*delta_t\n",
    "my_mean_intensity_plot(np.ma.masked_equal(my_arr,0),channels=[0,1,2],labels=['mRNA','TRNL','Ago2'],xlim=[-1,66],\n",
    "               colors=['red','limegreen','blue'],markers=['o','s','^'],renorm=False, error='sem', \n",
    "                       style='seaborn-whitegrid', axeslabels=['Time (min)', 'Intensity (a.u.)'],\n",
    "                       times = my_times, filename='test.svg')"
   ]
  },
  {
   "cell_type": "code",
   "execution_count": null,
   "metadata": {},
   "outputs": [],
   "source": []
  },
  {
   "cell_type": "code",
   "execution_count": null,
   "metadata": {},
   "outputs": [],
   "source": []
  }
 ],
 "metadata": {
  "kernelspec": {
   "display_name": "Python 3",
   "language": "python",
   "name": "python3"
  },
  "language_info": {
   "codemirror_mode": {
    "name": "ipython",
    "version": 3
   },
   "file_extension": ".py",
   "mimetype": "text/x-python",
   "name": "python",
   "nbconvert_exporter": "python",
   "pygments_lexer": "ipython3",
   "version": "3.8.5"
  }
 },
 "nbformat": 4,
 "nbformat_minor": 4
}
