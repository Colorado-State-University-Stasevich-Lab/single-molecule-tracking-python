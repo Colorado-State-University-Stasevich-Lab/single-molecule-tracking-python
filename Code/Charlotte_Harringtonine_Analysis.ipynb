{
 "cells": [
  {
   "cell_type": "markdown",
   "metadata": {},
   "source": [
    "### Initiation"
   ]
  },
  {
   "cell_type": "code",
   "execution_count": 1,
   "metadata": {
    "jupyter": {
     "source_hidden": true
    }
   },
   "outputs": [
    {
     "name": "stdout",
     "output_type": "stream",
     "text": [
      "Error importing cv2, the manual selection for the mask will not work.\n",
      "         _____ _   _____    ____       _              ________ \n",
      "   _____/ ___// | / /   |  / __ \\_____(_)___ ___     /  _/ __ \\\n",
      "  / ___/\\__ \\/  |/ / /| | / /_/ / ___/ / __ `__ \\    / // /_/ /\n",
      " / /   ___/ / /|  / ___ |/ ____(__  ) / / / / / /  _/ // ____/ \n",
      "/_/   /____/_/ |_/_/  |_/_/   /____/_/_/ /_/ /_/  /___/_/      \n",
      "                                                               \n",
      "\n"
     ]
    }
   ],
   "source": [
    "# To manipulate arrays\n",
    "import numpy as np \n",
    "# To import images \n",
    "\n",
    "# To handle track DataFrames\n",
    "import pandas as pd\n",
    "\n",
    "# To import images\n",
    "from skimage import io \n",
    "from skimage.io import imread\n",
    "\n",
    "# For TrackPy\n",
    "import trackpy as tp\n",
    "\n",
    "# To make plots\n",
    "import matplotlib as mpl \n",
    "import matplotlib.pyplot as plt \n",
    "import seaborn as sns; sns.set()  \n",
    "\n",
    "# To work inline; change to %matplotlib notebook for interactive plotting\n",
    "%matplotlib inline \n",
    "\n",
    "# Napari \n",
    "%gui qt5 \n",
    "from skimage import data\n",
    "import napari\n",
    "\n",
    "# To create interactive elements\n",
    "import ipywidgets as widgets \n",
    "from ipywidgets import interact, interactive, fixed, interact_manual, Button, HBox, VBox, Layout, GridspecLayout\n",
    "from ipywidgets.embed import embed_minimal_html, dependency_state\n",
    "\n",
    "# Image processing and filters\n",
    "from skimage.filters import difference_of_gaussians\n",
    "\n",
    "# Iteration tools such as groupby \n",
    "import itertools\n",
    "\n",
    "# For directories \n",
    "import os\n",
    "\n",
    "# For reloading a library when testing\n",
    "import importlib\n",
    "\n",
    "# For deleting/reloading modules in another file for code testing\n",
    "import sys\n",
    "\n",
    "# For statistics\n",
    "from scipy import stats\n",
    "\n",
    "# Import trackArrayTools\n",
    "from trackArrayTools import *\n",
    "\n",
    "#rSNAPsim_IP\n",
    "cwd = os.getcwd()  # get current working director\n",
    "os.chdir('../rSNAPsim_IP/rSNAPsim_IP/') # assume rSNAPsim_IP is  one directory up\n",
    "import rSNAPsim_IP as rss_IP #importing rSNAPsim.\n",
    "os.chdir(cwd) # change back to original current directory (the directory this file is in)"
   ]
  },
  {
   "cell_type": "markdown",
   "metadata": {},
   "source": [
    "### Set current working directory, track array filenames, and basic parameters"
   ]
  },
  {
   "cell_type": "code",
   "execution_count": 2,
   "metadata": {},
   "outputs": [],
   "source": [
    "# Enter in the following:\n",
    "crop_pad = 5    # specifies the size of crops in track arary. If 5, then crops are (2*5 + 1 = 11) x 11\n",
    "xy_pixel_size = 130   # voxel  xy dimensions in crops\n",
    "z_pixel_size = 500   # voxel z dimension\n",
    "working_directory = 'C:/Users/tim_s/OneDrive - Colostate/Stasevich Lab/Lab Management/Dry Lab/Python/Python Scripts/LabScripts/TestData/'\n",
    "video_3D_filename_path = 'C:/Users/tim_s/OneDrive - Colostate/Stasevich Lab/Lab Management/Dry Lab/Python/Python Scripts/LabScripts/TestData/'\n",
    "beads_path ='C:/Users/tim_s/OneDrive - Colostate/Stasevich Lab/Lab Management/Dry Lab/Python/Python Scripts/LabScripts/TestData/beads/'\n",
    "video_3D_filename = 'XBP1_HT_60TP_60sINT_MMStack_Pos5.tif'"
   ]
  },
  {
   "cell_type": "code",
   "execution_count": 3,
   "metadata": {
    "scrolled": true
   },
   "outputs": [
    {
     "data": {
      "text/plain": [
       "['Particles_XBP1_HT_60TP_60sINT_MMStack_Pos5_crop_pad_5.tif',\n",
       " 'Particles_XBP1_HT_60TP_60sINT_MMStack_Pos5.csv']"
      ]
     },
     "execution_count": 3,
     "metadata": {},
     "output_type": "execute_result"
    }
   ],
   "source": [
    "# For display, so z and xy are shown properly when viewing track array\n",
    "z_renorm = z_pixel_size/xy_pixel_size  \n",
    "\n",
    "#  Track array filenames should be the following:\n",
    "track_array_filename = 'Particles_' + video_3D_filename[:-4] + '_crop_pad_' + str(crop_pad) + '.tif' \n",
    "track_filename = track_array_filename[:-15] + '.csv'\n",
    "[track_array_filename, track_filename]"
   ]
  },
  {
   "cell_type": "markdown",
   "metadata": {},
   "source": [
    "### Creating Track Array (only done once using original 3D video and tracks)"
   ]
  },
  {
   "cell_type": "code",
   "execution_count": 4,
   "metadata": {},
   "outputs": [],
   "source": [
    "# Loading the figure with beads so track array can be registered\n",
    "# Dimension 1 is the number of channel. Red and Green. # Dimension 2 is the x axis. # Dimension 3 is the y axis.\n",
    "figWithBeads = beads_path + 'Beads01.tif'\n",
    "im_beads = io.imread(figWithBeads) # reading the image"
   ]
  },
  {
   "cell_type": "code",
   "execution_count": 5,
   "metadata": {},
   "outputs": [
    {
     "name": "stdout",
     "output_type": "stream",
     "text": [
      "The number of spots detected for the red channel are:\n",
      "(20, 2)\n",
      "The number of spots detected for the green channel are:\n",
      "(20, 2)\n",
      "\n",
      "The homography matrix is:\n"
     ]
    }
   ],
   "source": [
    "# Using rSNAPSim to get the homography matrix to align the green/blue channels with red\n",
    "temp_obj_beads = rss_IP.BeadsAlignment(im_beads)\n",
    "[my_homography,positions_green,positions_red] = temp_obj_beads.make_beads_alignment()  # !!! Adjusted Luis' code to spit this info out"
   ]
  },
  {
   "cell_type": "code",
   "execution_count": 6,
   "metadata": {
    "scrolled": true
   },
   "outputs": [
    {
     "name": "stdout",
     "output_type": "stream",
     "text": [
      "[original distance, corrected distance (shift red to green), corrected distance (shift green to red)]\n",
      "[1.2726687, 0.12849299313417575, 0.1280740294164543]\n",
      "[1.3451809, 0.14853664364314356, 0.14807651895121135]\n",
      "[2.0753744, 0.15718788109963497, 0.1565058976266831]\n",
      "[1.3255992, 0.055842676707769115, 0.05569601027254516]\n",
      "[2.6797066, 0.20342482110419635, 0.2029440438445857]\n",
      "[1.2187791, 0.1008292573351438, 0.1005412498271081]\n",
      "[1.71802, 0.2992409694149052, 0.2987281485993548]\n",
      "[2.667532, 0.15109284469553486, 0.15072017167476776]\n",
      "[1.3152245, 0.2709841342835561, 0.2700017522510797]\n",
      "[1.7368447, 0.19023605921109252, 0.18938879727843283]\n",
      "[2.4173877, 0.16530609314268166, 0.1649267292683264]\n",
      "[3.002502, 0.32696980496345995, 0.32600086152091323]\n",
      "[2.736199, 0.3452139957795221, 0.34386731413269855]\n",
      "[2.0486274, 0.218367777388381, 0.2176507089231217]\n",
      "[2.8950522, 0.19863269305190143, 0.1982603587722709]\n",
      "[2.1219773, 0.348756247935226, 0.34739027811796314]\n",
      "[2.1285346, 0.10154393145179892, 0.1010662897799378]\n",
      "[2.2615921, 0.09311241819907963, 0.09283653806720676]\n",
      "[2.9541225, 0.21041716994890544, 0.21010264444393015]\n",
      "[3.2100165, 0.039738247864599306, 0.03956766387170938]\n"
     ]
    }
   ],
   "source": [
    "# Check that the homography matrix is working:\n",
    "my_homography_inverse = np.linalg.inv(my_homography)  # This is the transformation we use to shift green to red\n",
    "print('[original distance, corrected distance (shift red to green), corrected distance (shift green to red)]' )\n",
    "for i in np.arange(len(positions_green)):\n",
    "    g0=positions_green[i]\n",
    "    g=np.dot(my_homography_inverse,[positions_green[i,0],positions_green[i,1],1])[0:2]  # Correct green/blue\n",
    "    r0=positions_red[i]\n",
    "    r=np.dot(my_homography,[positions_red[i,0],positions_red[i,1],1])[0:2]  # What you'll do: shift red to green\n",
    "    print([np.linalg.norm(g0-r0),np.linalg.norm(g0-r),np.linalg.norm(g-r0)]) # Check corrections"
   ]
  },
  {
   "cell_type": "code",
   "execution_count": 7,
   "metadata": {},
   "outputs": [
    {
     "data": {
      "text/plain": [
       "'C:/Users/tim_s/OneDrive - Colostate/Stasevich Lab/Lab Management/Dry Lab/Python/Python Scripts/LabScripts/TestData/XBP1_HT_60TP_60sINT_MMStack_Pos5.tif'"
      ]
     },
     "execution_count": 7,
     "metadata": {},
     "output_type": "execute_result"
    }
   ],
   "source": [
    "video_3D_filename_path+video_3D_filename"
   ]
  },
  {
   "cell_type": "code",
   "execution_count": 8,
   "metadata": {},
   "outputs": [],
   "source": [
    "# Read in the original 3D video \n",
    "video_3D = imread(video_3D_filename_path+video_3D_filename)"
   ]
  },
  {
   "cell_type": "code",
   "execution_count": 9,
   "metadata": {},
   "outputs": [],
   "source": [
    "# Create track array tif video from the original 3D video\n",
    "# This only needs to be done once. Thereafter, can skip and just work with track array itself\n",
    "video_3D = imread(video_3D_filename_path + video_3D_filename)\n",
    "dims = list(video_3D.shape)\n",
    "if len(dims) == 4:     # check if just a single channel video\n",
    "    n_channels = 1\n",
    "    n_frames, z_slices, height_y, width_x = dims\n",
    "else:\n",
    "    n_channels = min(dims)\n",
    "    n_channels_index = dims.index(n_channels)   # find index of n_channels, which is assumed to be smallest dimension \n",
    "    dims.remove(n_channels)    \n",
    "    video_3D = np.moveaxis(video_3D,n_channels_index,-1)  # move channels to last dimension of array (assumed by napari)\n",
    "    n_frames, z_slices, height_y, width_x = dims"
   ]
  },
  {
   "cell_type": "code",
   "execution_count": 10,
   "metadata": {
    "scrolled": true
   },
   "outputs": [
    {
     "data": {
      "text/html": [
       "<div>\n",
       "<style scoped>\n",
       "    .dataframe tbody tr th:only-of-type {\n",
       "        vertical-align: middle;\n",
       "    }\n",
       "\n",
       "    .dataframe tbody tr th {\n",
       "        vertical-align: top;\n",
       "    }\n",
       "\n",
       "    .dataframe thead th {\n",
       "        text-align: right;\n",
       "    }\n",
       "</style>\n",
       "<table border=\"1\" class=\"dataframe\">\n",
       "  <thead>\n",
       "    <tr style=\"text-align: right;\">\n",
       "      <th></th>\n",
       "      <th>Label</th>\n",
       "      <th>ID</th>\n",
       "      <th>TRACK_ID</th>\n",
       "      <th>QUALITY</th>\n",
       "      <th>POSITION_X</th>\n",
       "      <th>POSITION_Y</th>\n",
       "      <th>POSITION_Z</th>\n",
       "      <th>POSITION_T</th>\n",
       "      <th>FRAME</th>\n",
       "      <th>RADIUS</th>\n",
       "      <th>...</th>\n",
       "      <th>MANUAL_COLOR</th>\n",
       "      <th>MEAN_INTENSITY</th>\n",
       "      <th>MEDIAN_INTENSITY</th>\n",
       "      <th>MIN_INTENSITY</th>\n",
       "      <th>MAX_INTENSITY</th>\n",
       "      <th>TOTAL_INTENSITY</th>\n",
       "      <th>STANDARD_DEVIATION</th>\n",
       "      <th>ESTIMATED_DIAMETER</th>\n",
       "      <th>CONTRAST</th>\n",
       "      <th>SNR</th>\n",
       "    </tr>\n",
       "  </thead>\n",
       "  <tbody>\n",
       "    <tr>\n",
       "      <th>0</th>\n",
       "      <td>ID114720</td>\n",
       "      <td>114720</td>\n",
       "      <td>0</td>\n",
       "      <td>163.716</td>\n",
       "      <td>336.810</td>\n",
       "      <td>271.316</td>\n",
       "      <td>6.851</td>\n",
       "      <td>0</td>\n",
       "      <td>0</td>\n",
       "      <td>4</td>\n",
       "      <td>...</td>\n",
       "      <td>-10921639</td>\n",
       "      <td>748.836</td>\n",
       "      <td>739</td>\n",
       "      <td>517</td>\n",
       "      <td>1100</td>\n",
       "      <td>255353</td>\n",
       "      <td>98.453</td>\n",
       "      <td>15.200</td>\n",
       "      <td>0.024</td>\n",
       "      <td>0.359</td>\n",
       "    </tr>\n",
       "    <tr>\n",
       "      <th>1</th>\n",
       "      <td>ID114929</td>\n",
       "      <td>114929</td>\n",
       "      <td>0</td>\n",
       "      <td>115.187</td>\n",
       "      <td>337.849</td>\n",
       "      <td>275.219</td>\n",
       "      <td>7.743</td>\n",
       "      <td>1</td>\n",
       "      <td>1</td>\n",
       "      <td>4</td>\n",
       "      <td>...</td>\n",
       "      <td>-10921639</td>\n",
       "      <td>737.267</td>\n",
       "      <td>733</td>\n",
       "      <td>533</td>\n",
       "      <td>1096</td>\n",
       "      <td>251408</td>\n",
       "      <td>77.879</td>\n",
       "      <td>14.274</td>\n",
       "      <td>0.019</td>\n",
       "      <td>0.357</td>\n",
       "    </tr>\n",
       "    <tr>\n",
       "      <th>2</th>\n",
       "      <td>ID114690</td>\n",
       "      <td>114690</td>\n",
       "      <td>1</td>\n",
       "      <td>193.946</td>\n",
       "      <td>234.691</td>\n",
       "      <td>248.097</td>\n",
       "      <td>4.618</td>\n",
       "      <td>0</td>\n",
       "      <td>0</td>\n",
       "      <td>4</td>\n",
       "      <td>...</td>\n",
       "      <td>-10921639</td>\n",
       "      <td>849.088</td>\n",
       "      <td>840</td>\n",
       "      <td>566</td>\n",
       "      <td>1303</td>\n",
       "      <td>289539</td>\n",
       "      <td>111.353</td>\n",
       "      <td>12.088</td>\n",
       "      <td>0.031</td>\n",
       "      <td>0.453</td>\n",
       "    </tr>\n",
       "    <tr>\n",
       "      <th>3</th>\n",
       "      <td>ID114875</td>\n",
       "      <td>114875</td>\n",
       "      <td>1</td>\n",
       "      <td>152.193</td>\n",
       "      <td>237.643</td>\n",
       "      <td>242.523</td>\n",
       "      <td>2.998</td>\n",
       "      <td>1</td>\n",
       "      <td>1</td>\n",
       "      <td>4</td>\n",
       "      <td>...</td>\n",
       "      <td>-10921639</td>\n",
       "      <td>842.569</td>\n",
       "      <td>830</td>\n",
       "      <td>606</td>\n",
       "      <td>1229</td>\n",
       "      <td>287316</td>\n",
       "      <td>95.259</td>\n",
       "      <td>15.200</td>\n",
       "      <td>0.036</td>\n",
       "      <td>0.612</td>\n",
       "    </tr>\n",
       "    <tr>\n",
       "      <th>4</th>\n",
       "      <td>ID114782</td>\n",
       "      <td>114782</td>\n",
       "      <td>1</td>\n",
       "      <td>128.812</td>\n",
       "      <td>234.322</td>\n",
       "      <td>240.430</td>\n",
       "      <td>3.992</td>\n",
       "      <td>2</td>\n",
       "      <td>2</td>\n",
       "      <td>4</td>\n",
       "      <td>...</td>\n",
       "      <td>-10921639</td>\n",
       "      <td>815.114</td>\n",
       "      <td>803</td>\n",
       "      <td>554</td>\n",
       "      <td>1167</td>\n",
       "      <td>277954</td>\n",
       "      <td>97.636</td>\n",
       "      <td>13.684</td>\n",
       "      <td>0.020</td>\n",
       "      <td>0.321</td>\n",
       "    </tr>\n",
       "  </tbody>\n",
       "</table>\n",
       "<p>5 rows × 21 columns</p>\n",
       "</div>"
      ],
      "text/plain": [
       "      Label      ID  TRACK_ID  QUALITY  POSITION_X  POSITION_Y  POSITION_Z  \\\n",
       "0  ID114720  114720         0  163.716     336.810     271.316       6.851   \n",
       "1  ID114929  114929         0  115.187     337.849     275.219       7.743   \n",
       "2  ID114690  114690         1  193.946     234.691     248.097       4.618   \n",
       "3  ID114875  114875         1  152.193     237.643     242.523       2.998   \n",
       "4  ID114782  114782         1  128.812     234.322     240.430       3.992   \n",
       "\n",
       "   POSITION_T  FRAME  RADIUS  ...  MANUAL_COLOR  MEAN_INTENSITY  \\\n",
       "0           0      0       4  ...     -10921639         748.836   \n",
       "1           1      1       4  ...     -10921639         737.267   \n",
       "2           0      0       4  ...     -10921639         849.088   \n",
       "3           1      1       4  ...     -10921639         842.569   \n",
       "4           2      2       4  ...     -10921639         815.114   \n",
       "\n",
       "   MEDIAN_INTENSITY  MIN_INTENSITY  MAX_INTENSITY  TOTAL_INTENSITY  \\\n",
       "0               739            517           1100           255353   \n",
       "1               733            533           1096           251408   \n",
       "2               840            566           1303           289539   \n",
       "3               830            606           1229           287316   \n",
       "4               803            554           1167           277954   \n",
       "\n",
       "   STANDARD_DEVIATION  ESTIMATED_DIAMETER  CONTRAST    SNR  \n",
       "0              98.453              15.200     0.024  0.359  \n",
       "1              77.879              14.274     0.019  0.357  \n",
       "2             111.353              12.088     0.031  0.453  \n",
       "3              95.259              15.200     0.036  0.612  \n",
       "4              97.636              13.684     0.020  0.321  \n",
       "\n",
       "[5 rows x 21 columns]"
      ]
     },
     "execution_count": 10,
     "metadata": {},
     "output_type": "execute_result"
    }
   ],
   "source": [
    "# Read in the tracking file that corresponds to the original 3D video\n",
    "tracks = pd.read_csv(video_3D_filename_path+track_filename) \n",
    "tracks.head()"
   ]
  },
  {
   "cell_type": "code",
   "execution_count": 12,
   "metadata": {},
   "outputs": [
    {
     "data": {
      "text/plain": [
       "<Tracks layer 'TRACK_IDs' at 0x19f67f6db88>"
      ]
     },
     "execution_count": 12,
     "metadata": {},
     "output_type": "execute_result"
    }
   ],
   "source": [
    "viewer = napari.Viewer()\n",
    "viewer.add_image(video_3D[:,:,:,:,0],name='red',blending=\"additive\", scale=[z_renorm,1,1])\n",
    "viewer.add_tracks(tracks[['TRACK_ID','POSITION_T','POSITION_Z','POSITION_Y','POSITION_X']].values, name=\"TRACK_IDs\")"
   ]
  },
  {
   "cell_type": "code",
   "execution_count": 13,
   "metadata": {},
   "outputs": [],
   "source": [
    "create_particle_array_video(working_directory, track_array_filename, video_3D, \n",
    "                             tracks, crop_pad, xy_pixel_size, z_pixel_size, homography = my_homography)\n",
    "# create_track_array_video(working_directory, track_array_filename, video_3D[0::10], tracks, crop_pad, xy_pixel_size, z_pixel_size)"
   ]
  },
  {
   "cell_type": "code",
   "execution_count": 19,
   "metadata": {},
   "outputs": [],
   "source": []
  },
  {
   "cell_type": "markdown",
   "metadata": {},
   "source": [
    "### Track Array analysis: 3D background subtract + best-z projection + 2D background subtract"
   ]
  },
  {
   "cell_type": "code",
   "execution_count": 14,
   "metadata": {},
   "outputs": [],
   "source": [
    "# Choose which track array you want to work with:\n",
    "working_directory = 'C:/Users/tim_s/OneDrive - Colostate/Stasevich Lab/Lab Management/Dry Lab/Python/Python Scripts/LabScripts/TestData/'\n",
    "track_array_filename ='Particles_XBP1_HT_60TP_60sINT_MMStack_Pos5_crop_pad_5.tif'\n",
    "\n",
    "# The corresponding tracking file should be in the same directory and have the following filename: \n",
    "track_filename = track_array_filename[:-15] + '.csv'\n",
    "\n",
    "# Read in the track array video \n",
    "track_array_vid = imread(working_directory + track_array_filename)  # Read in track array .tif file\n",
    "\n",
    "# Read in tracks as a \"dataframes (df)\"\n",
    "track_array_df = pd.read_csv(working_directory + track_filename)\n",
    "\n",
    "# Make sure color channels are the last dimension of the track array\n",
    "dims = list(track_array_vid.shape)\n",
    "if len(dims) != 3:     # check if just a single channel video\n",
    "    n_channels = min(dims)\n",
    "    n_channels_index = dims.index(n_channels)\n",
    "    track_array_vid = np.moveaxis(track_array_vid,n_channels_index,-1)"
   ]
  },
  {
   "cell_type": "code",
   "execution_count": 15,
   "metadata": {},
   "outputs": [],
   "source": [
    "# Step 0: Create the track array object:\n",
    "#del sys.modules['trackArrayTools']  # Use this if you are coding new class methods and want to reread trackArrayTools.py file\n",
    "#from trackArrayTools import *\n",
    "ta = TrackArray(track_array_vid, track_array_df, crop_pad)"
   ]
  },
  {
   "cell_type": "code",
   "execution_count": 25,
   "metadata": {},
   "outputs": [],
   "source": [
    "# Step 1: subtract background in 3D capsule mask\n",
    "my_offset = [0,-1,-1]  ### For 3-color, could be [0,-1,-1]; BE CAREFUL, THIS WILL MAKE A MASK THAT IS SHIFTED IN Z FOR BLUE AND GREEN!!!\n",
    "capsule_mask = ta.capsule_mask(crop_pad,crop_pad,2,1,0,z_offset=my_offset)\n",
    "arr_bg = ta.local_background_subtract(ta.arr,capsule_mask)\n",
    "\n",
    "# Check with napari\n",
    "max = np.max(arr_bg,axis=(0,1,2)) # find max intensities for setting intensity range\n",
    "my_range = [[0,max[ch]] for ch in np.arange(len(max))]\n",
    "napari_viewer(arr_bg,[z_renorm,1,1],int_range=my_range,layer=[capsule_mask[:,:,:,0],capsule_mask[:,:,:,1]])"
   ]
  },
  {
   "cell_type": "code",
   "execution_count": 18,
   "metadata": {},
   "outputs": [],
   "source": [
    "# Step 2: Now do best-z projection\n",
    "my_best_z_masks = ta.best_z_mask(1,0,z_offset = my_offset) # this part is same as above\n",
    "arr_bg_best_z = ta.mask_projection(arr_bg, my_best_z_masks) # best-z projection\n",
    "\n",
    "# Check with napari\n",
    "max = np.max(arr_bg_best_z,axis=(0,1)) # find max intensities for setting intensity range\n",
    "my_range = [[0,max[ch]] for ch in np.arange(len(max))]\n",
    "napari_viewer(arr_bg_best_z,[1,1],int_range=my_range)"
   ]
  },
  {
   "cell_type": "code",
   "execution_count": 19,
   "metadata": {},
   "outputs": [],
   "source": [
    "# Step 3: Subtract background in donut rings from max projection  \n",
    "arr_bg_best_z_bg = ta.local_background_subtract(arr_bg_best_z,ta.donut_mask_2D(5,1))\n",
    "\n",
    "# Check with napari and show donut mask\n",
    "max = np.max(arr_bg_best_z_bg,axis=(0,1)) # find max intensities for setting intensity range\n",
    "my_range = [[0,max[ch]] for ch in np.arange(len(max))]\n",
    "napari_viewer(arr_bg_best_z_bg,[1,1],int_range=my_range,layer=[ta.donut_mask_2D(5,1)])"
   ]
  },
  {
   "cell_type": "code",
   "execution_count": 20,
   "metadata": {},
   "outputs": [
    {
     "data": {
      "text/plain": [
       "'C:/Users/tim_s/OneDrive - Colostate/Stasevich Lab/Lab Management/Dry Lab/Python/Python Scripts/LabScripts/TestData/Particles_XBP1_HT_60TP_60sINT_MMStack_Pos5_crop_pad_5_bg-sub_bestz_bg-sub.tif'"
      ]
     },
     "execution_count": 20,
     "metadata": {},
     "output_type": "execute_result"
    }
   ],
   "source": [
    "# Output background-subtracted and max-z projected track array \n",
    "output_filename_path = working_directory + track_array_filename[0:-4] + '_bg-sub_bestz_bg-sub.tif'\n",
    "io.imsave(output_filename_path,\n",
    "        arr_bg_best_z_bg, \n",
    "        resolution=(1/xy_pixel_size,1/xy_pixel_size))\n",
    "output_filename_path"
   ]
  },
  {
   "cell_type": "code",
   "execution_count": 28,
   "metadata": {},
   "outputs": [],
   "source": [
    "# Loop everything above on a collection of images, if desired:\n",
    "working_directory = 'C:/Users/tim_s/OneDrive - Colostate/Stasevich Lab/Lab Management/Dry Lab/Python/Python Scripts/LabScripts/TestData/'\n",
    "vids = ['XBP1_HT_60TP_60sINT_MMStack_Pos5.tif','XBP1_HT_60TP_60sINT_MMStack_Pos5-2.tif'] # Add to this list to batch process\n",
    "my_offset = [0,-1,-1]  ### BE CAREFUL, THIS WILL MAKE A MASK THAT IS SHIFTED IN Z FOR BLUE AND GREEN!!!\n",
    "for vs in vids:\n",
    "    # Get track array video and tracking files:\n",
    "    track_array_filename = 'Particles_'+vs[0:-4]+'_crop_pad_5.tif'\n",
    "    track_filename = track_array_filename[:-15] + '.csv'\n",
    "\n",
    "    # Read in the track array video \n",
    "    track_array_vid = imread(working_directory + track_array_filename)  # Read in track array .tif file\n",
    "\n",
    "    # Read in tracks as a \"dataframes (df)\"\n",
    "    track_array_df = pd.read_csv(working_directory + track_filename)\n",
    "\n",
    "    # Make sure color channels are the last dimension of the track array\n",
    "    dims = list(track_array_vid.shape)\n",
    "    if len(dims) != 3:     # check if just a single channel video\n",
    "        n_channels = min(dims)\n",
    "        n_channels_index = dims.index(n_channels)\n",
    "        track_array_vid = np.moveaxis(track_array_vid,n_channels_index,-1)\n",
    "\n",
    "    # Step 0: make the track array object\n",
    "    ta = TrackArray(track_array_vid, track_array_df, crop_pad)\n",
    "\n",
    "    # Step 1: subtract background in 3D capsule mask\n",
    "    my_offset = [0,-1,-1]  # !!!! This should probably be defaulted as [0,0,0]\n",
    "    capsule_mask = ta.capsule_mask(crop_pad,crop_pad,2,1,0,z_offset=my_offset)\n",
    "    arr_bg = ta.local_background_subtract(ta.arr,capsule_mask)\n",
    "    \n",
    "    # Step 2: Now do best-z projection\n",
    "    my_best_z_masks = ta.best_z_mask(1,0,z_offset = my_offset) # this part is same as above\n",
    "    arr_bg_best_z = ta.mask_projection(arr_bg, my_best_z_masks) # best-z projection\n",
    "    \n",
    "    # Step 3: Subtract background in donut rings from max projection  \n",
    "    arr_bg_best_z_bg = ta.local_background_subtract(arr_bg_best_z,ta.donut_mask_2D(5,1))\n",
    "\n",
    "    # Output background-subtracted and max-z projected track array \n",
    "    output_filename_path = working_directory + track_array_filename[0:-4] + '_bg-sub_bestz_bg-sub.tif'\n",
    "    io.imsave(output_filename_path,\n",
    "            arr_bg_best_z_bg, \n",
    "            resolution=(1/xy_pixel_size,1/xy_pixel_size))"
   ]
  },
  {
   "cell_type": "code",
   "execution_count": null,
   "metadata": {},
   "outputs": [],
   "source": []
  },
  {
   "cell_type": "markdown",
   "metadata": {},
   "source": [
    "### Concatentate all track arrays of interest into one giant track array object"
   ]
  },
  {
   "cell_type": "code",
   "execution_count": 29,
   "metadata": {},
   "outputs": [],
   "source": [
    "# Specify basic track array parameters (in case not done above)\n",
    "crop_pad = 5    # specifies the size of crops in track arary. If 5, then crops are (2*5 + 1 = 11) x 11\n",
    "xy_pixel_size = 130   # voxel  xy dimensions in crops\n",
    "z_pixel_size = 500   # voxel z dimension\n",
    "\n",
    "# Specify working directory and files you want to read in:\n",
    "working_directory = 'C:/Users/tim_s/OneDrive - Colostate/Stasevich Lab/Lab Management/Dry Lab/Python/Python Scripts/LabScripts/TestData/'\n",
    "vids_TA =['XBP1_HT_60TP_60sINT_MMStack_Pos5.tif','XBP1_HT_60TP_60sINT_MMStack_Pos5-2.tif'] \n",
    "vids_TL =['XBP1_HT_60TP_60sINT_MMStack_Pos5.tif'] \n",
    "crop_pad = 5    # specifies the size of crops in track arary. If 5, then crops are (2*5 + 1 = 11) x 11\n",
    "#track_array_filenames = ['Tracks_' + videos[:-4] + '_crop_pad_' + \n",
    "#                          str(crop_pad) + '.tif' for videos in vids]\n",
    "track_array_filenames_TA = ['Particles_' + videos[:-4] + '_crop_pad_' + \n",
    "                          str(crop_pad) + '_bg-sub_bestz_bg-sub.tif' for videos in vids_TA]\n",
    "track_array_filenames_TL = ['Particles_' + videos[:-4] + '_crop_pad_' + \n",
    "                          str(crop_pad) + '_bg-sub_bestz_bg-sub.tif' for videos in vids_TL]"
   ]
  },
  {
   "cell_type": "code",
   "execution_count": null,
   "metadata": {},
   "outputs": [],
   "source": []
  },
  {
   "cell_type": "code",
   "execution_count": 30,
   "metadata": {},
   "outputs": [],
   "source": [
    "# Read in all track array videos and corresponding tracking files:\n",
    "track_array_vids_TA = [imread(working_directory + i) for i in track_array_filenames_TA]  # Read in track array .tif file\n",
    "track_files_TA = [pd.read_csv(working_directory + 'Particles_' + videos[:-4]+'.csv') for videos in vids_TA] \n",
    "\n",
    "track_array_vids_TL = [imread(working_directory + i) for i in track_array_filenames_TL]  # Read in track array .tif file\n",
    "track_files_TL = [pd.read_csv(working_directory + 'Particles_' + videos[:-4]+'.csv') for videos in vids_TL] \n",
    "\n",
    "# Concatentate the tracking files:\n",
    "tracks_all_TA = pd.concat(track_files_TA, axis=0, sort=False) \n",
    "tracks_all_TL = pd.concat(track_files_TL, axis=0, sort=False) \n",
    "\n",
    "# Concatenate the tracking_array_vids:\n",
    "track_array_all_TA = concat_crop_array_vids(track_array_vids_TA)\n",
    "track_array_all_TL = concat_crop_array_vids(track_array_vids_TL)\n",
    "\n",
    "# Make large, single track array:\n",
    "ta_TA = TrackArray(track_array_all_TA, tracks_all_TA, crop_pad)\n",
    "ta_TL = TrackArray(track_array_all_TL, tracks_all_TL, crop_pad)"
   ]
  },
  {
   "cell_type": "code",
   "execution_count": 31,
   "metadata": {},
   "outputs": [],
   "source": [
    "# View the background-subtracted track array and disk mask to measure intensities in:\n",
    "napari_viewer(ta_TA.moving_avg(ta_TA.arr,1),[1,1],int_range=[[0,10000] for i in np.arange(ta_TA.n_channels())],\n",
    "              layer=[ta_TA.donut_mask_2D(3,1),ta_TA.disk_mask_2D(3)])"
   ]
  },
  {
   "cell_type": "code",
   "execution_count": 71,
   "metadata": {},
   "outputs": [],
   "source": [
    "# View the background-subtracted track array and disk mask to measure intensities in:\n",
    "napari_viewer(ta_TL.moving_avg(ta_TL.arr,1),[1,1],int_range=[[0,10000] for i in np.arange(ta_TA.n_channels())],\n",
    "              layer=[ta_TL.donut_mask_2D(3,1),ta_TL.disk_mask_2D(3)])"
   ]
  },
  {
   "cell_type": "markdown",
   "metadata": {},
   "source": [
    "### Figures generated from the concatenated track array object"
   ]
  },
  {
   "cell_type": "code",
   "execution_count": 32,
   "metadata": {},
   "outputs": [],
   "source": [
    "# Choose working directory where you want to save figures and data:\n",
    "os.chdir('C:/Users/tim_s/OneDrive - Colostate/Stasevich Lab/Our papers/Ago2Tethering/TimFastTrackAnalysis/Plots/')"
   ]
  },
  {
   "cell_type": "code",
   "execution_count": 34,
   "metadata": {},
   "outputs": [],
   "source": [
    "# Cacluate the intensity in the disk mask of radius 3 (this is the mask viewed above)\n",
    "my_int_TA = ta_TA.int_in_mask(ta_TA.arr,np.array([ta_TA.disk_mask_2D(3)]))\n",
    "my_int_TL = ta_TL.int_in_mask(ta_TL.arr,np.array([ta_TL.disk_mask_2D(3)]))"
   ]
  },
  {
   "cell_type": "code",
   "execution_count": 35,
   "metadata": {},
   "outputs": [
    {
     "data": {
      "image/png": "[encoded data removed]",
      "text/plain": [
       "<Figure size 432x288 with 1 Axes>"
      ]
     },
     "metadata": {},
     "output_type": "display_data"
    }
   ],
   "source": [
    "# Plot the mean intensity as a function of time (essentially this is the Harringtonine curve).\n",
    "# Note this saves the plot to the specified filename (should be a .svg filename) to the workign directory.\n",
    "# As well, a .csv file containing the plot data will be generated with the same filename.\n",
    "my_arr = my_int_TA # Choose track array\n",
    "delta_t = 1 \n",
    "my_times = np.arange(my_arr.shape[1])*delta_t\n",
    "my_mean_intensity_plot(np.ma.masked_equal(my_arr,0),channels=[0,1],labels=['mRNA','TRNL'],xlim=[0,60],\n",
    "               colors=['red','limegreen'],markers=['o','s'],renorm=False, error='sem', \n",
    "                       style='seaborn-whitegrid', axeslabels=['Time (min)', 'Intensity (a.u.)'],\n",
    "                       times = my_times, filename='test.svg')"
   ]
  },
  {
   "cell_type": "code",
   "execution_count": null,
   "metadata": {},
   "outputs": [],
   "source": []
  },
  {
   "cell_type": "code",
   "execution_count": null,
   "metadata": {},
   "outputs": [],
   "source": []
  }
 ],
 "metadata": {
  "kernelspec": {
   "display_name": "Python 3",
   "language": "python",
   "name": "python3"
  },
  "language_info": {
   "codemirror_mode": {
    "name": "ipython",
    "version": 3
   },
   "file_extension": ".py",
   "mimetype": "text/x-python",
   "name": "python",
   "nbconvert_exporter": "python",
   "pygments_lexer": "ipython3",
   "version": "3.7.8"
  }
 },
 "nbformat": 4,
 "nbformat_minor": 4
}
