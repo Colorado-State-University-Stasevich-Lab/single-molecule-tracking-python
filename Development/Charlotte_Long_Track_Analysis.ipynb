{
 "cells": [
  {
   "cell_type": "markdown",
   "metadata": {},
   "source": [
    "### Initiation"
   ]
  },
  {
   "cell_type": "code",
   "execution_count": 1,
   "metadata": {
    "jupyter": {
     "source_hidden": true
    }
   },
   "outputs": [],
   "source": [
    "# To manipulate arrays\n",
    "import numpy as np \n",
    "# To import images \n",
    "\n",
    "# To handle track DataFrames\n",
    "import pandas as pd\n",
    "\n",
    "# To import images\n",
    "from skimage import io \n",
    "from skimage.io import imread\n",
    "\n",
    "# For TrackPy\n",
    "import trackpy as tp\n",
    "\n",
    "# To make plots\n",
    "import matplotlib as mpl \n",
    "import matplotlib.pyplot as plt \n",
    "import seaborn as sns; sns.set()  \n",
    "\n",
    "# To work inline; change to %matplotlib notebook for interactive plotting\n",
    "%matplotlib inline \n",
    "\n",
    "# Napari \n",
    "%gui qt5 \n",
    "from skimage import data\n",
    "import napari\n",
    "\n",
    "# To create interactive elements\n",
    "import ipywidgets as widgets \n",
    "from ipywidgets import interact, interactive, fixed, interact_manual, Button, HBox, VBox, Layout, GridspecLayout\n",
    "from ipywidgets.embed import embed_minimal_html, dependency_state\n",
    "\n",
    "# Image processing and filters\n",
    "from skimage.filters import difference_of_gaussians\n",
    "\n",
    "# Iteration tools such as groupby \n",
    "import itertools\n",
    "\n",
    "# For directories \n",
    "import os\n",
    "\n",
    "# For reloading a library when testing\n",
    "import importlib\n",
    "\n",
    "# For deleting/reloading modules in another file for code testing\n",
    "import sys\n",
    "\n",
    "# Import trackArrayTools\n",
    "from trackArrayToolsV2 import *\n"
   ]
  },
  {
   "cell_type": "markdown",
   "metadata": {},
   "source": [
    "### Set current working directory, track array filenames, and basic parameters"
   ]
  },
  {
   "cell_type": "code",
   "execution_count": 2,
   "metadata": {},
   "outputs": [],
   "source": [
    "# Set the current working directory\n",
    "os.chdir('C:/Users/tim_s/OneDrive - Colostate/Stasevich Lab/Lab Management/Dry Lab/Python/Python Scripts/LabScripts/TestData/')"
   ]
  },
  {
   "cell_type": "code",
   "execution_count": 284,
   "metadata": {},
   "outputs": [],
   "source": [
    "# Enter in the following:\n",
    "crop_pad = 5    # specifies the size of crops in track arary. If 5, then crops are (2*5 + 1 = 11) x 11\n",
    "xy_pixel_size = 130   # voxel  xy dimensions in crops\n",
    "z_pixel_size = 500   # voxel z dimension\n",
    "working_directory = 'C:/Users/tim_s/OneDrive - Colostate/Stasevich Lab/Lab Management/Dry Lab/Python/Python Scripts/LabScripts/TestData/'\n",
    "#video_3D_filename = 'Hela_confocal.tif'\n",
    "video_3D_filename = 'TA02_90m.tif'\n",
    "#video_3D_filename = 'TA07_90m.tif'\n",
    "video_3D_filename_path = 'E:/Tim_tracking videos_all zs/'"
   ]
  },
  {
   "cell_type": "code",
   "execution_count": 285,
   "metadata": {
    "scrolled": true
   },
   "outputs": [
    {
     "data": {
      "text/plain": [
       "'Tracks_TA02_90m_crop_pad_5.tif'"
      ]
     },
     "execution_count": 285,
     "metadata": {},
     "output_type": "execute_result"
    }
   ],
   "source": [
    "#  Track array filenames should be the following:\n",
    "track_array_filename = 'Tracks_' + video_3D_filename[:-4] + '_crop_pad_' + str(crop_pad) + '.tif' \n",
    "track_filename = track_array_filename[:-15] + '.csv'\n",
    "\n",
    "# For display, so z and xy are shown properly when viewing track array\n",
    "z_renorm = z_pixel_size/xy_pixel_size  \n",
    "track_array_filename"
   ]
  },
  {
   "cell_type": "markdown",
   "metadata": {},
   "source": [
    "### Creating Track Array (only done once)"
   ]
  },
  {
   "cell_type": "code",
   "execution_count": 244,
   "metadata": {},
   "outputs": [],
   "source": [
    "#video_3D = imread(video_3D_filename_path+video_3D_filename)"
   ]
  },
  {
   "cell_type": "code",
   "execution_count": 266,
   "metadata": {
    "scrolled": true
   },
   "outputs": [],
   "source": [
    "# tracks = pd.read_csv(working_directory + track_filename) \n",
    "# tracks.head()"
   ]
  },
  {
   "cell_type": "code",
   "execution_count": 267,
   "metadata": {},
   "outputs": [],
   "source": [
    "# viewer = napari.Viewer()\n",
    "# viewer.add_image(video_3D[0::10,:,:,:,0],name='red',blending=\"additive\", scale=[z_renorm,1,1])\n",
    "# viewer.add_tracks(tracks[['TRACK_ID','POSITION_T','POSITION_Z','POSITION_Y','POSITION_X']].values, name=\"TRACK_IDs\")"
   ]
  },
  {
   "cell_type": "code",
   "execution_count": 255,
   "metadata": {},
   "outputs": [],
   "source": [
    "# create_track_array_video(working_directory, track_array_filename, video_3D[0::10], tracks, crop_pad, xy_pixel_size, z_pixel_size)"
   ]
  },
  {
   "cell_type": "markdown",
   "metadata": {},
   "source": [
    "### Read in track array .tif and .csv and do analysis"
   ]
  },
  {
   "cell_type": "code",
   "execution_count": 286,
   "metadata": {},
   "outputs": [],
   "source": [
    "# Read in the track array video and the tracks files:\n",
    "track_array_vid = imread(working_directory + track_array_filename)  # Read in track array .tif file\n",
    "track_array_df = pd.read_csv(working_directory + track_filename) # Read in tracks are read in as \"dataframes (df)\"\n",
    "# Make sure track array video channels dimension is listed last\n",
    "dims = list(track_array_vid.shape)\n",
    "if len(dims) != 3:     # check if just a single channel video\n",
    "    n_channels = min(dims)\n",
    "    n_channels_index = dims.index(n_channels)\n",
    "    track_array_vid = np.moveaxis(track_array_vid,n_channels_index,-1)"
   ]
  },
  {
   "cell_type": "code",
   "execution_count": 287,
   "metadata": {},
   "outputs": [],
   "source": [
    "# Create a track array object:\n",
    "#del sys.modules['trackArrayTools']  # Use this if you are coding new class methods and want to reread trackArrayTools.py file\n",
    "#from trackArrayToolsV2 import *\n",
    "ta = TrackArray(track_array_vid, track_array_df, crop_pad)"
   ]
  },
  {
   "cell_type": "code",
   "execution_count": 288,
   "metadata": {},
   "outputs": [
    {
     "data": {
      "text/plain": [
       "[(10, 33, 616, 3), (10, 33, 616, 3), (33, 616, 3)]"
      ]
     },
     "execution_count": 288,
     "metadata": {},
     "output_type": "execute_result"
    }
   ],
   "source": [
    "# Make best_z projection; use -1 offset for blue and green channels... \n",
    "my_best_z_masks = ta.z_masks(1,0,z_offset = [0,-1,-1])\n",
    "best_z_projection = ta.mask_projection(ta.arr, ta.to_crop_array(my_best_z_masks))\n",
    "cigar_masks = ta.cigar_masks(3,3,2,0)  # make cigar masks centered on tracked x and y and best-z\n",
    "capsule_masks = ta.capsule_masks(3,3,2,0)  # make capsule masks centered on tracked x and y and best-z \n",
    "[ta.to_crop_array(my_best_z_masks).shape,ta.arr.shape,best_z_projection.shape]"
   ]
  },
  {
   "cell_type": "code",
   "execution_count": 275,
   "metadata": {},
   "outputs": [],
   "source": [
    "# Check offset masks\n",
    "offset_mask = ta.to_crop_array(my_best_z_masks)[:,:,:,1] # can change to 0 to see non offset mask\n",
    "ta.napari_viewer(ta.arr,[z_renorm,1,1],int_range = ta.int_range(0.1,8),layer = offset_mask)"
   ]
  },
  {
   "cell_type": "code",
   "execution_count": 289,
   "metadata": {},
   "outputs": [
    {
     "data": {
      "text/plain": [
       "[(33, 616, 3), (3, 56, 11, 11, 3)]"
      ]
     },
     "execution_count": 289,
     "metadata": {},
     "output_type": "execute_result"
    }
   ],
   "source": [
    "# Do local background subtraction, as calculated in capsules\n",
    "bg_crops = ta.local_background_subtract(capsule_masks)\n",
    "best_z_projection_bg = ta.mask_projection(ta.to_crop_array(bg_crops),ta.to_crop_array(my_best_z_masks))\n",
    "kymograph = np.max(bg_crops*my_best_z_masks,axis=2)\n",
    "[best_z_projection_bg.shape, kymograph.shape]"
   ]
  },
  {
   "cell_type": "code",
   "execution_count": 290,
   "metadata": {},
   "outputs": [],
   "source": [
    "# Function to do moving average by n frames\n",
    "def moving_avg(crops,n):\n",
    "    crops_ma = crops*0\n",
    "    for i in np.arange(crops.shape[1]-n):\n",
    "        crops_ma[:,i] = np.mean(crops[:,i:i+n],axis=1)\n",
    "    return crops_ma"
   ]
  },
  {
   "cell_type": "code",
   "execution_count": 291,
   "metadata": {},
   "outputs": [
    {
     "data": {
      "text/plain": [
       "[(3, 56, 10, 11, 11, 3), (33, 616, 3), (3, 56, 11, 11, 3)]"
      ]
     },
     "execution_count": 291,
     "metadata": {},
     "output_type": "execute_result"
    }
   ],
   "source": [
    "# Do a 3-frame moving average\n",
    "mov_avg = moving_avg(bg_crops,3)\n",
    "mov_avg_z_projection = ta.mask_projection(ta.to_crop_array(mov_avg),ta.to_crop_array(my_best_z_masks))\n",
    "mov_avg_kymograph = np.max(mov_avg,axis=2)\n",
    "[mov_avg.shape,mov_avg_z_projection.shape,mov_avg_kymograph.shape]"
   ]
  },
  {
   "cell_type": "code",
   "execution_count": 263,
   "metadata": {},
   "outputs": [],
   "source": [
    "# Check moving average\n",
    "ta.napari_viewer(mov_avg_z_projection,[1,1],int_range = ta.int_range(3,3)) ## nice visualization"
   ]
  },
  {
   "cell_type": "code",
   "execution_count": 292,
   "metadata": {},
   "outputs": [],
   "source": [
    "# Now do 2D disk-donut on mov_avg_z_projection to remove nearly all background\n",
    "my_donut = ta.to_color_mask(my_capsule(crop_pad,crop_pad,0,3,3,1,ta.crop_dim(),ta.crop_dim(),1))[0]\n",
    "my_disk = ta.to_color_mask(my_cigar(crop_pad,crop_pad,0,3,3,1,ta.crop_dim(),ta.crop_dim(),1))[0]\n",
    "disk_donut = mov_avg_z_projection*0\n",
    "crop_dim = ta.crop_dim()\n",
    "for n in np.arange(ta.n_tracks()):\n",
    "    for t in np.arange(ta.n_frames()):\n",
    "        cur_crop = mov_avg_z_projection_crops[n,t]\n",
    "        bg = np.mean(np.ma.masked_equal((my_donut*cur_crop),0), axis = (0,1)).data\n",
    "        for ch in np.arange(ta.n_channels()):\n",
    "            disk_donut[n*crop_dim:n*crop_dim+crop_dim,\n",
    "                       t*crop_dim:t*crop_dim+crop_dim,ch] = cur_crop[:,:,ch] - bg[ch]        "
   ]
  },
  {
   "cell_type": "code",
   "execution_count": 265,
   "metadata": {},
   "outputs": [],
   "source": [
    "# Check disk-donut final correction:\n",
    "max = np.max(disk_donut,axis=(0,1))\n",
    "ta.napari_viewer(disk_donut,[1,1],int_range=[[0,max[0]],[0,max[1]],[0,max[2]]]) ## best visualization"
   ]
  },
  {
   "cell_type": "code",
   "execution_count": 293,
   "metadata": {},
   "outputs": [
    {
     "data": {
      "text/plain": [
       "'C:/Users/tim_s/OneDrive - Colostate/Stasevich Lab/Lab Management/Dry Lab/Python/Python Scripts/LabScripts/TestData/Tracks_TA02_90m_crop_pad_5_bestz_bg-sub.tif'"
      ]
     },
     "execution_count": 293,
     "metadata": {},
     "output_type": "execute_result"
    }
   ],
   "source": [
    "working_directory + track_array_filename[0:-4] + '_bestz_bg-sub.tif'"
   ]
  },
  {
   "cell_type": "code",
   "execution_count": 294,
   "metadata": {},
   "outputs": [],
   "source": [
    "# Output background-subtracted and max-z projected track array \n",
    "output_filename_path = working_directory + track_array_filename[0:-4] + '_bestz_bg-sub.tif'\n",
    "io.imsave(output_filename_path,\n",
    "        disk_donut, \n",
    "        resolution=(1/xy_pixel_size,1/xy_pixel_size))"
   ]
  },
  {
   "cell_type": "markdown",
   "metadata": {},
   "source": [
    "### Read in all final track arrays tifs and combine into a single tif"
   ]
  },
  {
   "cell_type": "code",
   "execution_count": 315,
   "metadata": {},
   "outputs": [],
   "source": [
    "# Specify files you want to read in\n",
    "vid1 = 'TA02_90m.tif'\n",
    "vid2 = 'TA07_90m.tif'\n",
    "track_array_filename1 = 'Tracks_' + vid1[:-4] + '_crop_pad_' + str(crop_pad) + '_bestz_bg-sub.tif'\n",
    "track_array_filename2 = 'Tracks_' + vid2[:-4] + '_crop_pad_' + str(crop_pad) + '_bestz_bg-sub.tif'"
   ]
  },
  {
   "cell_type": "code",
   "execution_count": 349,
   "metadata": {},
   "outputs": [],
   "source": [
    "# Read in the track array video and the tracks files:\n",
    "track_array_final1 = imread(working_directory + track_array_filename1)  # Read in track array .tif file\n",
    "track_array_final2 = imread(working_directory + track_array_filename2)  # Read in track array .tif file"
   ]
  },
  {
   "cell_type": "code",
   "execution_count": 362,
   "metadata": {},
   "outputs": [
    {
     "data": {
      "text/plain": [
       "array([[ 33, 616,   3],\n",
       "       [ 11, 594,   3]])"
      ]
     },
     "execution_count": 362,
     "metadata": {},
     "output_type": "execute_result"
    }
   ],
   "source": [
    "dims = np.array([track_array_final1.shape, track_array_final2.shape])\n",
    "dims"
   ]
  },
  {
   "cell_type": "code",
   "execution_count": 380,
   "metadata": {},
   "outputs": [
    {
     "data": {
      "text/plain": [
       "[44, 616]"
      ]
     },
     "execution_count": 380,
     "metadata": {},
     "output_type": "execute_result"
    }
   ],
   "source": [
    "[sum(dims[:,0]),np.max(dims[:,1])]"
   ]
  },
  {
   "cell_type": "code",
   "execution_count": 389,
   "metadata": {},
   "outputs": [],
   "source": [
    "all_tracks = np.zeros((sum(dims[:,0]),np.max(dims[:,1]),dims[0,2]))    \n",
    "all_tracks[0:dims[0,0],:,:]=track_array_final1\n",
    "all_tracks[dims[0,0]:dims[0,0]+dims[1,0],0:dims[1,1],:]=track_array_final2"
   ]
  },
  {
   "cell_type": "code",
   "execution_count": 393,
   "metadata": {},
   "outputs": [],
   "source": [
    "max = np.max(all_tracks,axis=(0,1))\n",
    "ta.napari_viewer(all_tracks,[1,1],int_range=[[0,max[0]],[0,max[1]],[0,max[2]]]) ## best visualization)"
   ]
  },
  {
   "cell_type": "code",
   "execution_count": 392,
   "metadata": {},
   "outputs": [],
   "source": [
    "# Output background-subtracted and max-z projected all track arrays \n",
    "output_filename_path = working_directory + 'TA0n_90m_bestz_bg-sub_all.tif'\n",
    "io.imsave(output_filename_path,\n",
    "        all_tracks, \n",
    "        resolution=(1/xy_pixel_size,1/xy_pixel_size))"
   ]
  },
  {
   "cell_type": "code",
   "execution_count": null,
   "metadata": {},
   "outputs": [],
   "source": []
  }
 ],
 "metadata": {
  "kernelspec": {
   "display_name": "Python 3",
   "language": "python",
   "name": "python3"
  },
  "language_info": {
   "codemirror_mode": {
    "name": "ipython",
    "version": 3
   },
   "file_extension": ".py",
   "mimetype": "text/x-python",
   "name": "python",
   "nbconvert_exporter": "python",
   "pygments_lexer": "ipython3",
   "version": "3.7.8"
  }
 },
 "nbformat": 4,
 "nbformat_minor": 4
}
